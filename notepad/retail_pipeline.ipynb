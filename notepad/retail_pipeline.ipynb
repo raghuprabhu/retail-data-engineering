{
 "cells": [
  {
   "cell_type": "code",
   "execution_count": 1,
   "id": "e08f3cc3-6cba-404f-877b-e0ec6f34e2ad",
   "metadata": {},
   "outputs": [],
   "source": [
    "from pyspark.sql import SparkSession\n",
    "from pyspark.sql.types import StructType, StructField, StringType, IntegerType, DateType, DoubleType\n",
    "from pyspark.sql.functions import year, month, concat_ws, broadcast, sum, col, avg, count"
   ]
  },
  {
   "cell_type": "code",
   "execution_count": 2,
   "id": "6b2c620b-21ef-43fd-bc57-dfee2a3e9869",
   "metadata": {},
   "outputs": [
    {
     "name": "stderr",
     "output_type": "stream",
     "text": [
      "Setting default log level to \"WARN\".\n",
      "To adjust logging level use sc.setLogLevel(newLevel). For SparkR, use setLogLevel(newLevel).\n",
      "25/05/18 06:02:20 INFO SparkEnv: Registering MapOutputTracker\n",
      "25/05/18 06:02:21 INFO SparkEnv: Registering BlockManagerMaster\n",
      "25/05/18 06:02:21 INFO SparkEnv: Registering BlockManagerMasterHeartbeat\n",
      "25/05/18 06:02:21 INFO SparkEnv: Registering OutputCommitCoordinator\n"
     ]
    }
   ],
   "source": [
    "#Create a Spark Session\n",
    "#Define Schemas for our dataFrame based on the csv file we have stored in Google Cloud Storage Bucket.\n",
    "\n",
    "spark = SparkSession.builder\\\n",
    "        .appName(\"Retail DataSet\")\\\n",
    "        .getOrCreate()"
   ]
  },
  {
   "cell_type": "code",
   "execution_count": 3,
   "id": "014a3953-bfff-4dd3-adb6-fcf792415c78",
   "metadata": {},
   "outputs": [],
   "source": [
    "#Reading the data from Cloud Storage Bucket and creating dataFrame"
   ]
  },
  {
   "cell_type": "code",
   "execution_count": 3,
   "id": "b90a1e3b-33db-44f3-a058-e64f2d2446dd",
   "metadata": {},
   "outputs": [
    {
     "name": "stderr",
     "output_type": "stream",
     "text": [
      "                                                                                \r"
     ]
    }
   ],
   "source": [
    "customers_df = spark.read\\\n",
    "        .option(\"header\", True)\\\n",
    "        .option(\"mode\", \"PERMISSIVE\")\\\n",
    "        .option(\"badRecordsPath\", \"gs://retail_pysparkdata/bad_data\")\\\n",
    "        .option(\"nullValue\", \"\")\\\n",
    "        .option(\"inferSchema\", True)\\\n",
    "        .csv(\"gs://retail_pysparkdata/customers.csv\")\n",
    "\n",
    "transactions_df = spark.read\\\n",
    "            .option(\"header\", True)\\\n",
    "            .option(\"mode\", \"PERMISSIVE\")\\\n",
    "            .option(\"badRecordsPath\", \"gs://retail_pysparkdata/bad_data\")\\\n",
    "            .option(\"nullValue\", \"\")\\\n",
    "            .option(\"inferSchema\", True)\\\n",
    "            .csv(\"gs://retail_pysparkdata/transactions.csv\")"
   ]
  },
  {
   "cell_type": "code",
   "execution_count": 5,
   "id": "dd887ce8-75ef-41ea-966e-5c2cc55ffd7e",
   "metadata": {},
   "outputs": [],
   "source": [
    "#Clean data - nulls & remove duplicates"
   ]
  },
  {
   "cell_type": "code",
   "execution_count": 6,
   "id": "b6d0e2db-0205-4c11-84e7-b731a90031c9",
   "metadata": {},
   "outputs": [],
   "source": [
    "customers_df_clean = customers_df.dropna(subset = [\"customer_id\"]).dropDuplicates([\"customer_id\"])"
   ]
  },
  {
   "cell_type": "code",
   "execution_count": 7,
   "id": "5c935dee-46ab-491e-baf8-047a79f2759c",
   "metadata": {},
   "outputs": [],
   "source": [
    "transactions_df_clean = transactions_df.dropna(subset = [\"customer_id\",\"transaction_id\",\"quantity\",\"price\"]).dropDuplicates([\"customer_id\"])"
   ]
  },
  {
   "cell_type": "code",
   "execution_count": 8,
   "id": "36bd4112-423b-4452-b641-f67578389117",
   "metadata": {},
   "outputs": [],
   "source": [
    "#Add transaction year/month and full address new column\n",
    "\n",
    "transactions_df_enriched = transactions_df_clean.withColumn(\"transaction_year\", year(\"transaction_date\"))\\\n",
    "                            .withColumn(\"transaction_month\", month(\"transaction_date\"))\n",
    "\n",
    "customers_df_enriched = customers_df_clean.withColumn(\"full_address\", concat_ws(\", \", \"street_address\", \"city\", \"state\", \"zip_code\"))\n"
   ]
  },
  {
   "cell_type": "code",
   "execution_count": 9,
   "id": "7390c8eb-0dd2-4032-bf8a-1fb0f8771bfd",
   "metadata": {},
   "outputs": [],
   "source": [
    "customers_count = transactions_df_enriched.groupBy(\"customer_id\").agg(count(col(\"transaction_id\")).alias(\"count_cust\"))"
   ]
  },
  {
   "cell_type": "code",
   "execution_count": 10,
   "id": "b155dea1-bc22-4095-8689-faff1d1b3878",
   "metadata": {},
   "outputs": [
    {
     "name": "stderr",
     "output_type": "stream",
     "text": [
      "[Stage 4:=============================>                             (1 + 1) / 2]\r"
     ]
    },
    {
     "name": "stdout",
     "output_type": "stream",
     "text": [
      "+-----------+----------+\n",
      "|customer_id|count_cust|\n",
      "+-----------+----------+\n",
      "+-----------+----------+\n",
      "\n"
     ]
    },
    {
     "name": "stderr",
     "output_type": "stream",
     "text": [
      "                                                                                \r"
     ]
    }
   ],
   "source": [
    "customers_count = transactions_df_enriched.groupBy(\"customer_id\").agg(count(col(\"transaction_id\")).alias(\"count_cust\"))\n",
    "customers_count.filter(\"count_cust > 1\").show()"
   ]
  },
  {
   "cell_type": "code",
   "execution_count": 11,
   "id": "1adb51ea-7418-4a59-a13d-24f038581cef",
   "metadata": {},
   "outputs": [
    {
     "name": "stdout",
     "output_type": "stream",
     "text": [
      "root\n",
      " |-- transaction_id: string (nullable = true)\n",
      " |-- customer_id: string (nullable = true)\n",
      " |-- product_name: string (nullable = true)\n",
      " |-- product_category: string (nullable = true)\n",
      " |-- quantity: double (nullable = true)\n",
      " |-- price: double (nullable = true)\n",
      " |-- transaction_date: timestamp (nullable = true)\n",
      " |-- store_location: string (nullable = true)\n",
      " |-- payment_method: string (nullable = true)\n",
      " |-- discount_applied: double (nullable = true)\n",
      " |-- transaction_year: integer (nullable = true)\n",
      " |-- transaction_month: integer (nullable = true)\n",
      "\n"
     ]
    }
   ],
   "source": [
    "transactions_df_enriched.printSchema()"
   ]
  },
  {
   "cell_type": "code",
   "execution_count": 9,
   "id": "ced46e18-d467-4faf-8caa-8dbe8cbb469e",
   "metadata": {},
   "outputs": [],
   "source": [
    "#Lets cache the dataframe thats enriched and data handled for reuse"
   ]
  },
  {
   "cell_type": "code",
   "execution_count": 12,
   "id": "f87e80b1-4a78-4377-9eea-db3a476acb2d",
   "metadata": {},
   "outputs": [
    {
     "data": {
      "text/plain": [
       "DataFrame[transaction_id: string, customer_id: string, product_name: string, product_category: string, quantity: double, price: double, transaction_date: timestamp, store_location: string, payment_method: string, discount_applied: double, transaction_year: int, transaction_month: int]"
      ]
     },
     "execution_count": 12,
     "metadata": {},
     "output_type": "execute_result"
    }
   ],
   "source": [
    "# Repartition by customer_id for better join performance\n",
    "customers_df_enriched = customers_df_enriched.repartition(\"customer_id\")\n",
    "transactions_df_enriched = transactions_df_enriched.repartition(\"customer_id\")\n",
    "\n",
    "# Cache for reuse\n",
    "customers_df_enriched.cache()\n",
    "transactions_df_enriched.cache()\n"
   ]
  },
  {
   "cell_type": "code",
   "execution_count": 12,
   "id": "c1e89200-9e7f-4995-bdba-02ba5298e811",
   "metadata": {},
   "outputs": [],
   "source": [
    "#Lets Explore Joins"
   ]
  },
  {
   "cell_type": "code",
   "execution_count": 13,
   "id": "526fc617-253c-47cc-8a6e-c1903b324475",
   "metadata": {},
   "outputs": [],
   "source": [
    "#Inner Join\n",
    "\n",
    "inner_join_df = transactions_df_enriched.join(customers_df_enriched, how=\"inner\", on=\"customer_id\")\n"
   ]
  },
  {
   "cell_type": "code",
   "execution_count": 14,
   "id": "b7465517-779d-4419-be81-9f0082aca5bd",
   "metadata": {},
   "outputs": [],
   "source": [
    "#Left Outer Join\n",
    "\n",
    "left_outer_join_df = transactions_df_enriched.join(customers_df_enriched, how=\"left\", on=\"customer_id\")"
   ]
  },
  {
   "cell_type": "code",
   "execution_count": 15,
   "id": "ceadfbd6-d8bd-44df-8a20-2520e422bcd0",
   "metadata": {},
   "outputs": [],
   "source": [
    "#Right Outer Join\n",
    "\n",
    "right_outer_join_df = transactions_df_enriched.join(customers_df_enriched, how=\"right\", on=\"customer_id\")"
   ]
  },
  {
   "cell_type": "code",
   "execution_count": 16,
   "id": "4d6db799-9765-4015-8de2-2da292e496c5",
   "metadata": {},
   "outputs": [],
   "source": [
    "#Full Outer Join\n",
    "\n",
    "full_outer_join_df = transactions_df_enriched.join(customers_df_enriched, how=\"full\", on=\"customer_id\")"
   ]
  },
  {
   "cell_type": "code",
   "execution_count": 17,
   "id": "a8aa1dfc-9dee-442f-8455-acb059d2b1b1",
   "metadata": {},
   "outputs": [],
   "source": [
    "#Broadcast Join\n",
    "\n",
    "broadcast_join_df =transactions_df_enriched.join(broadcast(customers_df_enriched), how=\"outer\", on=\"customer_id\")"
   ]
  },
  {
   "cell_type": "code",
   "execution_count": 18,
   "id": "9a6cf48d-a842-4107-ab33-ddc03d93f6fc",
   "metadata": {},
   "outputs": [],
   "source": [
    "#Common Aggregations & Transformations"
   ]
  },
  {
   "cell_type": "code",
   "execution_count": 18,
   "id": "41b0449e-cd2b-400c-84df-1e7b01d40b1b",
   "metadata": {},
   "outputs": [
    {
     "name": "stderr",
     "output_type": "stream",
     "text": [
      "[Stage 14:=====================================================>  (48 + 2) / 50]\r"
     ]
    },
    {
     "name": "stdout",
     "output_type": "stream",
     "text": [
      "+--------+-------+----------------+\n",
      "|quantity|  price|discount_applied|\n",
      "+--------+-------+----------------+\n",
      "|     1.0| 112.31|            null|\n",
      "|     2.0|1425.13|            null|\n",
      "|     1.0| 249.58|            null|\n",
      "|     2.0| 744.62|            null|\n",
      "|     1.0| 746.84|            null|\n",
      "|     1.0|1928.22|            null|\n",
      "|     1.0| 125.76|            null|\n",
      "|     1.0|   40.8|            null|\n",
      "|     2.0|   62.1|            null|\n",
      "|     1.0|  207.4|            null|\n",
      "|     1.0|  51.95|            null|\n",
      "|     2.0| 459.22|            null|\n",
      "|     1.0| 350.79|            null|\n",
      "|     3.0| 448.67|            null|\n",
      "|     1.0| 808.35|            null|\n",
      "|     1.0|  27.58|            null|\n",
      "|     1.0| 138.24|            null|\n",
      "|     1.0|1151.79|            null|\n",
      "|     1.0| 118.36|            null|\n",
      "|     1.0|1298.82|            null|\n",
      "+--------+-------+----------------+\n",
      "only showing top 20 rows\n",
      "\n"
     ]
    },
    {
     "name": "stderr",
     "output_type": "stream",
     "text": [
      "                                                                                \r"
     ]
    }
   ],
   "source": [
    "#To Find Total Spend per customer, lets first create a amount column with price & quantity and then apply the discount percentage\n",
    "\n",
    "#transactions_df_enriched = transactions_df_enriched.withColumn(\"amount\", col(\"quantity\") * col(\"price\"))\n",
    "\n",
    "#transactions_df_enriched = transactions_df_enriched.withColumn(\"final_amount\", col(\"amount\") - col(\"discount_applied\"))\n",
    "\n",
    "\n",
    "#We found NULL being reported for most final_amount - Lets Investigate\n",
    "\n",
    "transactions_df_enriched.select(\"quantity\", \"price\", \"discount_applied\")\\\n",
    "                        .where(col(\"quantity\").isNull() | col(\"price\").isNull() | col(\"discount_applied\").isNull())\\\n",
    "                        .show()\n",
    "\n",
    "#It is now investigated that in the dataset there is Quqntity value blank when price is present thus it cascades null to final_amount"
   ]
  },
  {
   "cell_type": "code",
   "execution_count": 19,
   "id": "76426a78-2f36-4c8c-95b0-de2c3ad8f71b",
   "metadata": {},
   "outputs": [],
   "source": [
    "#It is now investigated that in the dataset there is Quqntity value blank when price is present thus it cascades null to final_amount\n",
    "#Lets create safe columns without NUll before calculating Final Amount\n",
    "\n",
    "#We tried coalesce but that was replacing all with 0.0 because quantity is blank and not null. So alrernate method below\n",
    "\n",
    "from pyspark.sql.functions import col, when, lit\n",
    "\n",
    "# Replace empty strings or nulls with 0 for quantity and price\n",
    "transactions_df_enriched = transactions_df_enriched\\\n",
    "                        .withColumn(\"clean_quantity\", when((col(\"quantity\").isNull()) | (col(\"quantity\") == \"\"), lit(0))\\\n",
    "                                    .otherwise(col(\"quantity\").cast(\"int\")))\\\n",
    "                        .withColumn(\"clean_price\", when((col(\"price\").isNull()) | (col(\"price\") == \"\"), lit(0.0))\\\n",
    "                                    .otherwise(col(\"price\").cast(\"double\")))\\\n",
    "                        .withColumn(\"clean_discount\", when((col(\"discount_applied\").isNull()) | (col(\"discount_applied\") == \"\"), lit(0))\\\n",
    "                                    .otherwise(col(\"discount_applied\").cast(\"int\")))\\\n",
    "                        .withColumn(\"amount\", col(\"clean_quantity\") * col(\"clean_price\"))\\\n",
    "                        .withColumn(\"final_amount\", col(\"amount\") - col(\"clean_discount\"))\n",
    "\n"
   ]
  },
  {
   "cell_type": "code",
   "execution_count": 20,
   "id": "553ed7ca-ceff-40cf-b63f-e69552bc9e65",
   "metadata": {},
   "outputs": [],
   "source": [
    "#Now that we got the final columns - final_amount / amount we can drop the safe columns we created.\n",
    "\n",
    "transactions_df_enriched = transactions_df_enriched.drop(\"clean_quantity\",\"clean_price\",\"clean_discount\")"
   ]
  },
  {
   "cell_type": "code",
   "execution_count": 21,
   "id": "3d5a191b-19f9-477f-869d-bfff6667d62f",
   "metadata": {},
   "outputs": [],
   "source": [
    "#To Find Total Spend per customer\n",
    "\n",
    "total_spend_df = transactions_df_enriched.groupBy(\"customer_id\").agg(sum(\"final_amount\").alias(\"total_spend\"))"
   ]
  },
  {
   "cell_type": "code",
   "execution_count": 22,
   "id": "41f31021-0e54-4ac1-87ca-669d7ba80758",
   "metadata": {},
   "outputs": [],
   "source": [
    "#Average Spend Per Store\n",
    "\n",
    "average_spend_df = transactions_df_enriched.groupBy(\"store_location\").agg(avg(\"final_amount\").alias(\"avg_spend\"))"
   ]
  },
  {
   "cell_type": "code",
   "execution_count": 23,
   "id": "03885750-e493-41d8-8515-af9ea90424d1",
   "metadata": {},
   "outputs": [],
   "source": [
    "#Count of Transactions Per Payment Method\n",
    "\n",
    "count_trans_paymentMethod = transactions_df_enriched.groupBy(\"payment_method\").agg(count(\"transaction_id\"))\n"
   ]
  },
  {
   "cell_type": "code",
   "execution_count": 24,
   "id": "1d31bb9c-c249-4650-9004-1b06e17c0937",
   "metadata": {},
   "outputs": [],
   "source": [
    "#High-Value Transactions (Final Amount > 1000)\n",
    "\n",
    "transactions_highvalue_df = transactions_df_enriched.filter(\"final_amount > 1000\")"
   ]
  },
  {
   "cell_type": "code",
   "execution_count": 25,
   "id": "d00cd821-2384-4611-a9d8-3a141ae6e32a",
   "metadata": {},
   "outputs": [],
   "source": [
    "#Top N Customers by Spend\n",
    "\n",
    "top_customer_df = total_spend_df.orderBy(col(\"total_spend\").desc()).limit(10)\n",
    "\n"
   ]
  },
  {
   "cell_type": "code",
   "execution_count": 90,
   "id": "e3ff3943-355d-43ca-9a58-f2077b5ab7af",
   "metadata": {},
   "outputs": [],
   "source": [
    "# Count of Transactions per City - this may not give accurate result\n",
    "\n",
    "#trans_city_df = customers_df_enriched.join(transactions_df_enriched, on=\"customer_id\", how = \"left\").groupBy(\"city\").count()"
   ]
  },
  {
   "cell_type": "code",
   "execution_count": 26,
   "id": "9ee384e2-4706-41bc-ac86-faab74ba5523",
   "metadata": {},
   "outputs": [],
   "source": [
    "# Count of Transactions per City\n",
    "\n",
    "trans_city_df = customers_df_enriched.join(transactions_df_enriched, on=\"customer_id\", how = \"left\").groupBy(\"city\").agg(count(when(col(\"transaction_id\").isNotNull(),1)).alias(\"transaction_count\"))"
   ]
  },
  {
   "cell_type": "code",
   "execution_count": 27,
   "id": "9a8746bd-c57f-43d5-a844-38a5be5378e3",
   "metadata": {},
   "outputs": [],
   "source": [
    "#Average Spend per Month\n",
    "\n",
    "avg_spend_month = transactions_df_enriched.groupBy(\"transaction_month\").agg(avg(\"final_amount\").alias(\"avg_spend_month\"))"
   ]
  },
  {
   "cell_type": "code",
   "execution_count": 35,
   "id": "7addce9f-9dfe-4dac-8be1-d2f69bdefe9c",
   "metadata": {},
   "outputs": [],
   "source": [
    "#Rename & Drop Columns\n",
    "renamed_df = transactions_df_enriched.withColumnRenamed(\"total_amount\" , \"final_amount\")\n",
    "\n",
    "transactions_df_enriched = renamed_df.drop(\"total_amount\")\n",
    "\n",
    "\n"
   ]
  },
  {
   "cell_type": "code",
   "execution_count": 28,
   "id": "9d2cceac-e531-41a8-8f90-c8e34842d934",
   "metadata": {},
   "outputs": [
    {
     "name": "stdout",
     "output_type": "stream",
     "text": [
      "+--------------------+--------------------+------------------+--------------------+--------+-------+-------------------+-----------------+--------------+----------------+----------------+-----------------+-------+------------+\n",
      "|      transaction_id|         customer_id|      product_name|    product_category|quantity|  price|   transaction_date|   store_location|payment_method|discount_applied|transaction_year|transaction_month| amount|final_amount|\n",
      "+--------------------+--------------------+------------------+--------------------+--------+-------+-------------------+-----------------+--------------+----------------+----------------+-----------------+-------+------------+\n",
      "|da684eac-a7d9-4da...|1280bddb-d9ed-4dc...|    Food Processor|Small Kitchen App...|     1.0| 101.53|2022-08-23 00:00:00|       Denver, CO|   Credit Card|             0.0|            2022|                8| 101.53|      101.53|\n",
      "|c5cf1693-8807-40e...|256c3dc8-04a9-41b...|     Sony Soundbar|     Audio Equipment|     2.0| 371.71|2024-11-16 00:00:00|             null|   Credit Card|             0.0|            2024|               11| 743.42|      743.42|\n",
      "|bb0009d5-b09f-4a1...|2fa8b3e5-af90-4be...|           Pillows|             Bedding|     1.0| 254.09|2024-02-21 00:00:00|           Online|    Debit Card|             0.0|            2024|                2| 254.09|      254.09|\n",
      "|b3d79cde-8a70-487...|2fe076bb-d401-427...|Samsung Galaxy Tab|             Tablets|     2.0| 301.09|2022-07-02 00:00:00|           Online|   Credit Card|             0.0|            2022|                7| 602.18|      602.18|\n",
      "|69b79747-fff8-498...|377dacf5-92d0-496...|    Microwave Oven|  Kitchen Appliances|     1.0| 526.14|2023-11-04 00:00:00|     New York, NY|     Apple Pay|             0.0|            2023|               11| 526.14|      526.14|\n",
      "|c7fd2754-1a23-4a1...|43d172e3-4ee1-475...|        Table Lamp|          Home Decor|     1.0| 155.78|2024-09-12 00:00:00|           Online|        PayPal|             0.0|            2024|                9| 155.78|      155.78|\n",
      "|073e8c29-b8b3-4d9...|455c05cc-3c5c-4f0...|      Dining Table|           Furniture|     2.0| 879.88|2024-06-11 00:00:00|     New York, NY|    Google Pay|             5.0|            2024|                6|1759.76|     1754.76|\n",
      "|71eb03b1-9fe7-430...|54e325e2-8499-44e...|        Steam Deck|     Gaming Consoles|     2.0| 481.04|2024-08-19 00:00:00|       Boston, MA|    Debit Card|             0.0|            2024|                8| 962.08|      962.08|\n",
      "|db7941b1-6f82-40c...|64afc1c8-2eaa-446...|Vizio SmartCast TV|                 TVs|     1.0| 765.68|2023-12-28 00:00:00|           Online|    Debit Card|            15.0|            2023|               12| 765.68|      750.68|\n",
      "|635186b2-f814-41f...|81b29f5b-a070-45a...|         Bed Frame|           Furniture|     1.0|1172.53|2022-10-11 00:00:00|San Francisco, CA|     Apple Pay|            20.0|            2022|               10|1172.53|     1152.53|\n",
      "|cb7015c9-3f21-415...|861c66ad-3aec-4da...|    Electric Range|  Kitchen Appliances|     1.0| 112.31|2022-12-01 00:00:00|           Online|   Credit Card|            null|            2022|               12| 112.31|      112.31|\n",
      "|624860f2-24cd-464...|8a185511-3dc2-469...|       Office Desk|           Furniture|     1.0| 1489.2|2024-03-08 00:00:00|      Chicago, IL|    Debit Card|             5.0|            2024|                3| 1489.2|      1484.2|\n",
      "|b5320bd2-2aec-490...|99ba027b-24e2-406...|     Throw Pillows|          Home Decor|     2.0|  177.2|2023-08-21 00:00:00|      Chicago, IL|   Credit Card|            15.0|            2023|                8|  354.4|       339.4|\n",
      "|97dc7aa0-e5eb-4e8...|bdb529e6-281d-4ab...|          Curtains|                null|     1.0|  67.78|2024-09-26 00:00:00|      Houston, TX|        PayPal|            25.0|            2024|                9|  67.78|       42.78|\n",
      "|c01d9b57-2a35-456...|dcdb6180-6f27-4dd...|       Google Nest|  Smart Home Devices|     1.0| 269.38|2022-11-07 00:00:00|           Online|    Debit Card|             5.0|            2022|               11| 269.38|      264.38|\n",
      "|f0f23743-98c8-4ee...|e2275f6f-253e-44e...|Samsung Galaxy S22|         Smartphones|     1.0|1097.29|2024-12-05 00:00:00|       Boston, MA|    Debit Card|            30.0|            2024|               12|1097.29|     1067.29|\n",
      "|c30922ff-a6d4-4f8...|e5249c67-3787-4ee...|         Knife Set|            Cookware|     1.0| 221.37|2023-05-25 00:00:00|           Online|     Apple Pay|            30.0|            2023|                5| 221.37|      191.37|\n",
      "|2d01d940-0af6-4a3...|e8aa2256-69c1-433...|         iPhone 13|         Smartphones|     1.0| 864.15|2025-01-08 00:00:00|San Francisco, CA|          Cash|             0.0|            2025|                1| 864.15|      864.15|\n",
      "|20564126-6747-489...|eacf4624-88d9-4aa...|        Range Hood|  Kitchen Appliances|     2.0|  772.0|2024-07-18 00:00:00|           Online|    Debit Card|             0.0|            2024|                7| 1544.0|      1544.0|\n",
      "|bbc28b18-2852-445...|ebbb77a6-097b-47b...|    Electric Range|  Kitchen Appliances|     2.0| 456.52|2024-11-23 00:00:00|  Los Angeles, CA|    Debit Card|            25.0|            2024|               11| 913.04|      888.04|\n",
      "+--------------------+--------------------+------------------+--------------------+--------+-------+-------------------+-----------------+--------------+----------------+----------------+-----------------+-------+------------+\n",
      "only showing top 20 rows\n",
      "\n"
     ]
    }
   ],
   "source": [
    "transactions_df_enriched.show()"
   ]
  },
  {
   "cell_type": "code",
   "execution_count": 29,
   "id": "505f5e76-23f2-4c9a-9195-e65c9a52a16e",
   "metadata": {},
   "outputs": [],
   "source": [
    "#Adding Derived Columns (withColumn)\n",
    "\n",
    "from pyspark.sql.functions import when\n",
    "\n",
    "transactions_flagged_df = transactions_df_enriched.withColumn(\"high_value_flag\",when(transactions_df_enriched[\"amount\"] > 1000, \"HIGH\")\\\n",
    "                                                                .otherwise(\"NORMAL\"))\n"
   ]
  },
  {
   "cell_type": "code",
   "execution_count": 30,
   "id": "a220a6b1-fb47-4128-af43-da40c55ca908",
   "metadata": {},
   "outputs": [],
   "source": [
    "#Select and Rename Columns\n",
    "\n",
    "renamed_df = transactions_flagged_df.selectExpr(\"transaction_id as txn_id\",\"customer_id\",\"amount\",\"high_value_flag\")\n"
   ]
  },
  {
   "cell_type": "code",
   "execution_count": 31,
   "id": "3fc6f3b7-5475-4a74-bda6-74cf8e0d82f3",
   "metadata": {},
   "outputs": [
    {
     "name": "stdout",
     "output_type": "stream",
     "text": [
      "+--------------------+--------------------+-------+---------------+\n",
      "|              txn_id|         customer_id| amount|high_value_flag|\n",
      "+--------------------+--------------------+-------+---------------+\n",
      "|da684eac-a7d9-4da...|1280bddb-d9ed-4dc...| 101.53|         NORMAL|\n",
      "|c5cf1693-8807-40e...|256c3dc8-04a9-41b...| 743.42|         NORMAL|\n",
      "|bb0009d5-b09f-4a1...|2fa8b3e5-af90-4be...| 254.09|         NORMAL|\n",
      "|b3d79cde-8a70-487...|2fe076bb-d401-427...| 602.18|         NORMAL|\n",
      "|69b79747-fff8-498...|377dacf5-92d0-496...| 526.14|         NORMAL|\n",
      "|c7fd2754-1a23-4a1...|43d172e3-4ee1-475...| 155.78|         NORMAL|\n",
      "|073e8c29-b8b3-4d9...|455c05cc-3c5c-4f0...|1759.76|           HIGH|\n",
      "|71eb03b1-9fe7-430...|54e325e2-8499-44e...| 962.08|         NORMAL|\n",
      "|db7941b1-6f82-40c...|64afc1c8-2eaa-446...| 765.68|         NORMAL|\n",
      "|635186b2-f814-41f...|81b29f5b-a070-45a...|1172.53|           HIGH|\n",
      "|cb7015c9-3f21-415...|861c66ad-3aec-4da...| 112.31|         NORMAL|\n",
      "|624860f2-24cd-464...|8a185511-3dc2-469...| 1489.2|           HIGH|\n",
      "|b5320bd2-2aec-490...|99ba027b-24e2-406...|  354.4|         NORMAL|\n",
      "|97dc7aa0-e5eb-4e8...|bdb529e6-281d-4ab...|  67.78|         NORMAL|\n",
      "|c01d9b57-2a35-456...|dcdb6180-6f27-4dd...| 269.38|         NORMAL|\n",
      "|f0f23743-98c8-4ee...|e2275f6f-253e-44e...|1097.29|           HIGH|\n",
      "|c30922ff-a6d4-4f8...|e5249c67-3787-4ee...| 221.37|         NORMAL|\n",
      "|2d01d940-0af6-4a3...|e8aa2256-69c1-433...| 864.15|         NORMAL|\n",
      "|20564126-6747-489...|eacf4624-88d9-4aa...| 1544.0|           HIGH|\n",
      "|bbc28b18-2852-445...|ebbb77a6-097b-47b...| 913.04|         NORMAL|\n",
      "+--------------------+--------------------+-------+---------------+\n",
      "only showing top 20 rows\n",
      "\n"
     ]
    }
   ],
   "source": [
    "renamed_df.show()"
   ]
  },
  {
   "cell_type": "code",
   "execution_count": null,
   "id": "2e700438-8f74-44aa-ad8e-b754cdbf6337",
   "metadata": {},
   "outputs": [],
   "source": [
    "# Repartition and Cache (optional for performance tuning)"
   ]
  },
  {
   "cell_type": "code",
   "execution_count": 33,
   "id": "31616f76-0dc7-47fb-8bd4-6ff5d47a9968",
   "metadata": {},
   "outputs": [],
   "source": [
    "from pyspark.sql.functions import lit, monotonically_increasing_id\n",
    "from pyspark.sql import DataFrame\n",
    "\n",
    "# 1. Pick a sample of customers to duplicate\n",
    "sample_customers = transactions_df_enriched.select(\"customer_id\").distinct().limit(5)\n",
    "\n",
    "\n"
   ]
  },
  {
   "cell_type": "code",
   "execution_count": 34,
   "id": "8a14323e-f714-4868-8de9-1d9f3db3bb19",
   "metadata": {},
   "outputs": [],
   "source": [
    "# 2. Join with transactions to get their original transactions\n",
    "sample_txns = sample_customers.join(transactions_df_enriched, on=\"customer_id\", how=\"inner\")\n",
    "\n"
   ]
  },
  {
   "cell_type": "code",
   "execution_count": 35,
   "id": "e0fb71de-6648-4585-9615-6b6be6372845",
   "metadata": {},
   "outputs": [],
   "source": [
    "#WINDOW Functions..\n",
    "\n",
    "#Rank by amount per customer\n",
    "\n",
    "from pyspark.sql.window import Window\n",
    "from pyspark.sql.functions import col, row_number, rank, dense_rank, sum as _sum, lag, lead\n",
    "\n",
    "window_spec_rank = Window.partitionBy(\"customer_id\").orderBy(col(\"final_amount\").desc())\n",
    "\n",
    "ranked_products_df = transactions_df_enriched.withColumn(\"rank_in_customer\",row_number().over(window_spec_rank))\n"
   ]
  },
  {
   "cell_type": "code",
   "execution_count": 37,
   "id": "80ccb4d6-7277-40ec-81fa-27842ebac36f",
   "metadata": {},
   "outputs": [
    {
     "name": "stdout",
     "output_type": "stream",
     "text": [
      "+--------------------+-------+------------+\n",
      "|         customer_id| amount|final_amount|\n",
      "+--------------------+-------+------------+\n",
      "|1280bddb-d9ed-4dc...| 101.53|      101.53|\n",
      "|256c3dc8-04a9-41b...| 743.42|      743.42|\n",
      "|2fa8b3e5-af90-4be...| 254.09|      254.09|\n",
      "|2fe076bb-d401-427...| 602.18|      602.18|\n",
      "|377dacf5-92d0-496...| 526.14|      526.14|\n",
      "|43d172e3-4ee1-475...| 155.78|      155.78|\n",
      "|455c05cc-3c5c-4f0...|1759.76|     1754.76|\n",
      "|54e325e2-8499-44e...| 962.08|      962.08|\n",
      "|64afc1c8-2eaa-446...| 765.68|      750.68|\n",
      "|81b29f5b-a070-45a...|1172.53|     1152.53|\n",
      "|861c66ad-3aec-4da...| 112.31|      112.31|\n",
      "|8a185511-3dc2-469...| 1489.2|      1484.2|\n",
      "|99ba027b-24e2-406...|  354.4|       339.4|\n",
      "|bdb529e6-281d-4ab...|  67.78|       42.78|\n",
      "|dcdb6180-6f27-4dd...| 269.38|      264.38|\n",
      "|e2275f6f-253e-44e...|1097.29|     1067.29|\n",
      "|e5249c67-3787-4ee...| 221.37|      191.37|\n",
      "|e8aa2256-69c1-433...| 864.15|      864.15|\n",
      "|eacf4624-88d9-4aa...| 1544.0|      1544.0|\n",
      "|ebbb77a6-097b-47b...| 913.04|      888.04|\n",
      "+--------------------+-------+------------+\n",
      "only showing top 20 rows\n",
      "\n"
     ]
    }
   ],
   "source": [
    "transactions_df_enriched.select(\"customer_id\",\"amount\",\"final_amount\").show()"
   ]
  },
  {
   "cell_type": "code",
   "execution_count": 38,
   "id": "bf55c35a-a669-447c-95cf-f5b78f0564d8",
   "metadata": {},
   "outputs": [
    {
     "name": "stdout",
     "output_type": "stream",
     "text": [
      "+--------------------+------------+----------------+\n",
      "|         customer_id|final_amount|rank_in_customer|\n",
      "+--------------------+------------+----------------+\n",
      "|1280bddb-d9ed-4dc...|      101.53|               1|\n",
      "|256c3dc8-04a9-41b...|      743.42|               1|\n",
      "|2fa8b3e5-af90-4be...|      254.09|               1|\n",
      "|2fe076bb-d401-427...|      602.18|               1|\n",
      "|377dacf5-92d0-496...|      526.14|               1|\n",
      "|43d172e3-4ee1-475...|      155.78|               1|\n",
      "|455c05cc-3c5c-4f0...|     1754.76|               1|\n",
      "|54e325e2-8499-44e...|      962.08|               1|\n",
      "|64afc1c8-2eaa-446...|      750.68|               1|\n",
      "|81b29f5b-a070-45a...|     1152.53|               1|\n",
      "|861c66ad-3aec-4da...|      112.31|               1|\n",
      "|8a185511-3dc2-469...|      1484.2|               1|\n",
      "|99ba027b-24e2-406...|       339.4|               1|\n",
      "|bdb529e6-281d-4ab...|       42.78|               1|\n",
      "|dcdb6180-6f27-4dd...|      264.38|               1|\n",
      "|e2275f6f-253e-44e...|     1067.29|               1|\n",
      "|e5249c67-3787-4ee...|      191.37|               1|\n",
      "|e8aa2256-69c1-433...|      864.15|               1|\n",
      "|eacf4624-88d9-4aa...|      1544.0|               1|\n",
      "|ebbb77a6-097b-47b...|      888.04|               1|\n",
      "+--------------------+------------+----------------+\n",
      "only showing top 20 rows\n",
      "\n"
     ]
    }
   ],
   "source": [
    "ranked_products_df.select(\"customer_id\",\"final_amount\",\"rank_in_customer\").show()"
   ]
  },
  {
   "cell_type": "code",
   "execution_count": 39,
   "id": "1bea605d-c476-4f77-b0dd-990a9110775a",
   "metadata": {},
   "outputs": [],
   "source": [
    "#Running total of final_amount per customer\n",
    "\n",
    "window_spec_running = Window.partitionBy(\"customer_id\").orderBy(\"transaction_date\")\n",
    "\n",
    "running_total_df = transactions_df_enriched.withColumn(\"running_total\",_sum(\"final_amount\").over(window_spec_running))\n"
   ]
  },
  {
   "cell_type": "code",
   "execution_count": 40,
   "id": "ce4dcd4f-214c-4539-8fde-1365451988e3",
   "metadata": {},
   "outputs": [],
   "source": [
    "#Compare each transaction with previous\n",
    "\n",
    "window_spec_lag = Window.partitionBy(\"customer_id\").orderBy(\"transaction_date\")\n",
    "\n",
    "lag_lead_df = transactions_df_enriched.withColumn(\"prev_amount\",lag(\"final_amount\", 1).over(window_spec_lag))\\\n",
    "            .withColumn(\"next_amount\",lead(\"final_amount\", 1).over(window_spec_lag))\n"
   ]
  },
  {
   "cell_type": "code",
   "execution_count": 41,
   "id": "4c198577-9291-41ad-8281-46b609a1dae5",
   "metadata": {},
   "outputs": [],
   "source": [
    "#Dense Rank: Cities by total spend\n",
    "\n",
    "city_total_df = customers_df_enriched.join(transactions_df_enriched, \"customer_id\")\n",
    "\n",
    "city_spend_df = city_total_df.groupBy(\"city\").agg(\n",
    "    _sum(\"final_amount\").alias(\"total_spent\")\n",
    ")\n",
    "\n",
    "window_spec_city = Window.orderBy(col(\"total_spent\").desc())\n",
    "\n",
    "city_ranked_df = city_spend_df.withColumn(\n",
    "    \"dense_rank\", dense_rank().over(window_spec_city)\n",
    ")\n"
   ]
  },
  {
   "cell_type": "code",
   "execution_count": 42,
   "id": "9504354d-5d78-485d-9e3d-418c9d8f68cb",
   "metadata": {},
   "outputs": [
    {
     "name": "stdout",
     "output_type": "stream",
     "text": [
      "Before repartition: 200\n"
     ]
    }
   ],
   "source": [
    "print(\"Before repartition:\", transactions_df_enriched.rdd.getNumPartitions())"
   ]
  },
  {
   "cell_type": "code",
   "execution_count": 43,
   "id": "fc3318e9-0bc6-4d9f-a291-3c5cebb502ef",
   "metadata": {},
   "outputs": [],
   "source": [
    "transactions_df_repartitioned = transactions_df_enriched.repartition(10, \"customer_id\")"
   ]
  },
  {
   "cell_type": "code",
   "execution_count": 44,
   "id": "9238ae95-b4e9-44ac-b85d-7800f7527869",
   "metadata": {},
   "outputs": [
    {
     "name": "stderr",
     "output_type": "stream",
     "text": [
      "[Stage 24:==================================================>   (188 + 4) / 200]\r"
     ]
    },
    {
     "name": "stdout",
     "output_type": "stream",
     "text": [
      "After repartition: 10\n"
     ]
    }
   ],
   "source": [
    "print(\"After repartition:\", transactions_df_repartitioned.rdd.getNumPartitions())"
   ]
  },
  {
   "cell_type": "code",
   "execution_count": 62,
   "id": "9f8aa9cc-7ed3-490d-bbe0-07eb84060e6d",
   "metadata": {},
   "outputs": [
    {
     "data": {
      "text/plain": [
       "'Performance Tuning...!!!!!\\nStep 8: Repartition, Coalesce, and Caching\\nThese are critical concepts when optimizing performance in PySpark — especially for large datasets.\\n8.1 Repartitioning\\nWhen to use?\\nIncrease parallelism when working with larger datasets\\nEnsures better load balancing across Spark executors\\n\\n# Check current number of partitions\\nprint(\"Before repartition:\", transactions_df_with_dupes.rdd.getNumPartitions())  --> 200\\n\\n# Repartition to 10 partitions based on customer_id\\ntransactions_df_repartitioned = transactions_df_with_dupes.repartition(10, \"customer_id\")\\n\\nprint(\"After repartition:\", transactions_df_repartitioned.rdd.getNumPartitions())\\n✅ 8.2 Coalesce\\nWhen to use?\\nReduce number of partitions\\n\\nEspecially useful before writing to disk or performing actions like collect()\\n# Coalesce into fewer partitions (e.g., 2) before saving\\ntransactions_df_coalesced = transactions_df_repartitioned.coalesce(2)\\n✅ 8.3 Caching / Persisting\\nWhen to use?\\nIf you\\'re using a DataFrame multiple times in your pipeline\\n\\n# Cache to memory\\ntransactions_df_repartitioned.cache()\\ntransactions_df_repartitioned.count()  # Trigger cache\\nor\\n\\nfrom pyspark.storagelevel import StorageLevel\\n\\n# Persist to memory and disk\\ntransactions_df_repartitioned.persist(StorageLevel.MEMORY_AND_DISK)\\n\\n'"
      ]
     },
     "execution_count": 62,
     "metadata": {},
     "output_type": "execute_result"
    }
   ],
   "source": [
    "\"\"\"Performance Tuning...!!!!!\n",
    "Step 8: Repartition, Coalesce, and Caching\n",
    "These are critical concepts when optimizing performance in PySpark — especially for large datasets.\n",
    "8.1 Repartitioning\n",
    "When to use?\n",
    "Increase parallelism when working with larger datasets\n",
    "Ensures better load balancing across Spark executors\n",
    "\n",
    "# Check current number of partitions\n",
    "print(\"Before repartition:\", transactions_df_with_dupes.rdd.getNumPartitions())  --> 200\n",
    "\n",
    "# Repartition to 10 partitions based on customer_id\n",
    "transactions_df_repartitioned = transactions_df_with_dupes.repartition(10, \"customer_id\")\n",
    "\n",
    "print(\"After repartition:\", transactions_df_repartitioned.rdd.getNumPartitions())\n",
    "✅ 8.2 Coalesce\n",
    "When to use?\n",
    "Reduce number of partitions\n",
    "\n",
    "Especially useful before writing to disk or performing actions like collect()\n",
    "# Coalesce into fewer partitions (e.g., 2) before saving\n",
    "transactions_df_coalesced = transactions_df_repartitioned.coalesce(2)\n",
    "✅ 8.3 Caching / Persisting\n",
    "When to use?\n",
    "If you're using a DataFrame multiple times in your pipeline\n",
    "\n",
    "# Cache to memory\n",
    "transactions_df_repartitioned.cache()\n",
    "transactions_df_repartitioned.count()  # Trigger cache\n",
    "or\n",
    "\n",
    "from pyspark.storagelevel import StorageLevel\n",
    "\n",
    "# Persist to memory and disk\n",
    "transactions_df_repartitioned.persist(StorageLevel.MEMORY_AND_DISK)\n",
    "\n",
    "\"\"\""
   ]
  },
  {
   "cell_type": "code",
   "execution_count": 45,
   "id": "de2254ad-4015-4202-a065-811b3146f233",
   "metadata": {},
   "outputs": [],
   "source": [
    "transactions_df_coalesced = transactions_df_repartitioned.coalesce(2)"
   ]
  },
  {
   "cell_type": "code",
   "execution_count": 46,
   "id": "a9bf7c20-d50d-49e5-8eaf-8e81067261f7",
   "metadata": {},
   "outputs": [
    {
     "name": "stdout",
     "output_type": "stream",
     "text": [
      "After Coalesce: 2\n"
     ]
    },
    {
     "name": "stderr",
     "output_type": "stream",
     "text": [
      "[Stage 26:================================================>     (181 + 2) / 200]\r"
     ]
    }
   ],
   "source": [
    "print(\"After Coalesce:\", transactions_df_coalesced.rdd.getNumPartitions())"
   ]
  },
  {
   "cell_type": "code",
   "execution_count": 47,
   "id": "7dd07a99-1bcb-46fb-ba35-d769de67c54d",
   "metadata": {},
   "outputs": [
    {
     "name": "stderr",
     "output_type": "stream",
     "text": [
      "                                                                                \r"
     ]
    }
   ],
   "source": [
    "#Save output as csv\n",
    "\n",
    "transactions_df_repartitioned \\\n",
    "    .write \\\n",
    "    .mode(\"overwrite\") \\\n",
    "    .option(\"header\", True) \\\n",
    "    .csv(\"gs://retail_pysparkdata//output/transactions\")\n"
   ]
  },
  {
   "cell_type": "code",
   "execution_count": 48,
   "id": "2fe4a945-aebd-4964-8cda-ad48a2de5f45",
   "metadata": {},
   "outputs": [
    {
     "name": "stderr",
     "output_type": "stream",
     "text": [
      "                                                                                \r"
     ]
    }
   ],
   "source": [
    "#Save output as parque\n",
    "\n",
    "transactions_df_repartitioned \\\n",
    "    .write \\\n",
    "    .mode(\"overwrite\") \\\n",
    "    .parquet(\"gs://retail_pysparkdata//output/transactionss_parquet\")\n"
   ]
  },
  {
   "cell_type": "code",
   "execution_count": 49,
   "id": "06a26360-e315-4113-ba05-bf6b0a4c7d86",
   "metadata": {},
   "outputs": [],
   "source": [
    "spark.stop()"
   ]
  },
  {
   "cell_type": "code",
   "execution_count": null,
   "id": "1fe4f1f3-847d-428c-980b-dc77319acc51",
   "metadata": {},
   "outputs": [],
   "source": []
  }
 ],
 "metadata": {
  "kernelspec": {
   "display_name": "Python 3",
   "language": "python",
   "name": "python3"
  },
  "language_info": {
   "codemirror_mode": {
    "name": "ipython",
    "version": 3
   },
   "file_extension": ".py",
   "mimetype": "text/x-python",
   "name": "python",
   "nbconvert_exporter": "python",
   "pygments_lexer": "ipython3",
   "version": "3.10.8"
  }
 },
 "nbformat": 4,
 "nbformat_minor": 5
}
