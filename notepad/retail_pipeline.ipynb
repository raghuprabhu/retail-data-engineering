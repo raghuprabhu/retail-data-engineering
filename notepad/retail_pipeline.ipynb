{
 "cells": [
  {
   "cell_type": "code",
   "execution_count": 1,
   "id": "e08f3cc3-6cba-404f-877b-e0ec6f34e2ad",
   "metadata": {},
   "outputs": [],
   "source": [
    "from pyspark.sql import SparkSession\n",
    "from pyspark.sql.types import StructType, StructField, StringType, IntegerType, DateType, DoubleType\n",
    "from pyspark.sql.functions import year, month, concat_ws, broadcast, sum, col, avg, count"
   ]
  },
  {
   "cell_type": "code",
   "execution_count": 2,
   "id": "6b2c620b-21ef-43fd-bc57-dfee2a3e9869",
   "metadata": {},
   "outputs": [
    {
     "name": "stderr",
     "output_type": "stream",
     "text": [
      "Setting default log level to \"WARN\".\n",
      "To adjust logging level use sc.setLogLevel(newLevel). For SparkR, use setLogLevel(newLevel).\n",
      "25/05/17 18:26:21 INFO SparkEnv: Registering MapOutputTracker\n",
      "25/05/17 18:26:21 INFO SparkEnv: Registering BlockManagerMaster\n",
      "25/05/17 18:26:21 INFO SparkEnv: Registering BlockManagerMasterHeartbeat\n",
      "25/05/17 18:26:21 INFO SparkEnv: Registering OutputCommitCoordinator\n"
     ]
    }
   ],
   "source": [
    "#Create a Spark Session\n",
    "#Define Schemas for our dataFrame based on the csv file we have stored in Google Cloud Storage Bucket.\n",
    "\n",
    "spark = SparkSession.builder\\\n",
    "        .appName(\"Retail DataSet\")\\\n",
    "        .getOrCreate()"
   ]
  },
  {
   "cell_type": "code",
   "execution_count": 3,
   "id": "014a3953-bfff-4dd3-adb6-fcf792415c78",
   "metadata": {},
   "outputs": [],
   "source": [
    "#Reading the data from Cloud Storage Bucket and creating dataFrame"
   ]
  },
  {
   "cell_type": "code",
   "execution_count": 3,
   "id": "b90a1e3b-33db-44f3-a058-e64f2d2446dd",
   "metadata": {},
   "outputs": [
    {
     "name": "stderr",
     "output_type": "stream",
     "text": [
      "                                                                                \r"
     ]
    }
   ],
   "source": [
    "customers_df = spark.read\\\n",
    "        .option(\"header\", True)\\\n",
    "        .option(\"mode\", \"PERMISSIVE\")\\\n",
    "        .option(\"badRecordsPath\", \"gs://retail_pysparkdata/bad_data\")\\\n",
    "        .option(\"nullValue\", \"\")\\\n",
    "        .option(\"inferSchema\", True)\\\n",
    "        .csv(\"gs://retail_pysparkdata/customers.csv\")\n",
    "\n",
    "transactions_df = spark.read\\\n",
    "            .option(\"header\", True)\\\n",
    "            .option(\"mode\", \"PERMISSIVE\")\\\n",
    "            .option(\"badRecordsPath\", \"gs://retail_pysparkdata/bad_data\")\\\n",
    "            .option(\"nullValue\", \"\")\\\n",
    "            .option(\"inferSchema\", True)\\\n",
    "            .csv(\"gs://retail_pysparkdata/transactions.csv\")"
   ]
  },
  {
   "cell_type": "code",
   "execution_count": 5,
   "id": "dd887ce8-75ef-41ea-966e-5c2cc55ffd7e",
   "metadata": {},
   "outputs": [],
   "source": [
    "#Clean data - nulls & remove duplicates"
   ]
  },
  {
   "cell_type": "code",
   "execution_count": 4,
   "id": "b6d0e2db-0205-4c11-84e7-b731a90031c9",
   "metadata": {},
   "outputs": [],
   "source": [
    "customers_df_clean = customers_df.dropna(subset = [\"customer_id\"]).dropDuplicates([\"customer_id\"])"
   ]
  },
  {
   "cell_type": "code",
   "execution_count": 5,
   "id": "5c935dee-46ab-491e-baf8-047a79f2759c",
   "metadata": {},
   "outputs": [],
   "source": [
    "transactions_df_clean = transactions_df.dropna(subset = [\"customer_id\",\"transaction_id\",\"quantity\",\"price\"]).dropDuplicates([\"customer_id\"])"
   ]
  },
  {
   "cell_type": "code",
   "execution_count": 6,
   "id": "36bd4112-423b-4452-b641-f67578389117",
   "metadata": {},
   "outputs": [],
   "source": [
    "#Add transaction year/month and full address new column\n",
    "\n",
    "transactions_df_enriched = transactions_df_clean.withColumn(\"transaction_year\", year(\"transaction_date\"))\\\n",
    "                            .withColumn(\"transaction_month\", month(\"transaction_date\"))\n",
    "\n",
    "customers_df_enriched = customers_df_clean.withColumn(\"full_address\", concat_ws(\", \", \"street_address\", \"city\", \"state\", \"zip_code\"))\n"
   ]
  },
  {
   "cell_type": "code",
   "execution_count": 9,
   "id": "7390c8eb-0dd2-4032-bf8a-1fb0f8771bfd",
   "metadata": {},
   "outputs": [],
   "source": [
    "customers_count = transactions_df_enriched.groupBy(\"customer_id\").agg(count(col(\"transaction_id\")).alias(\"count_cust\"))"
   ]
  },
  {
   "cell_type": "code",
   "execution_count": 13,
   "id": "b155dea1-bc22-4095-8689-faff1d1b3878",
   "metadata": {},
   "outputs": [
    {
     "name": "stdout",
     "output_type": "stream",
     "text": [
      "+-----------+----------+\n",
      "|customer_id|count_cust|\n",
      "+-----------+----------+\n",
      "+-----------+----------+\n",
      "\n"
     ]
    }
   ],
   "source": [
    "customers_count = transactions_df_enriched.groupBy(\"customer_id\").agg(count(col(\"transaction_id\")).alias(\"count_cust\"))\n",
    "customers_count.filter(\"count_cust > 1\").show()"
   ]
  },
  {
   "cell_type": "code",
   "execution_count": 16,
   "id": "1adb51ea-7418-4a59-a13d-24f038581cef",
   "metadata": {},
   "outputs": [
    {
     "name": "stdout",
     "output_type": "stream",
     "text": [
      "root\n",
      " |-- transaction_id: string (nullable = true)\n",
      " |-- customer_id: string (nullable = true)\n",
      " |-- product_name: string (nullable = true)\n",
      " |-- product_category: string (nullable = true)\n",
      " |-- quantity: double (nullable = true)\n",
      " |-- price: double (nullable = true)\n",
      " |-- transaction_date: timestamp (nullable = true)\n",
      " |-- store_location: string (nullable = true)\n",
      " |-- payment_method: string (nullable = true)\n",
      " |-- discount_applied: double (nullable = true)\n",
      " |-- transaction_year: integer (nullable = true)\n",
      " |-- transaction_month: integer (nullable = true)\n",
      "\n"
     ]
    }
   ],
   "source": [
    "transactions_df_enriched.printSchema()"
   ]
  },
  {
   "cell_type": "code",
   "execution_count": 9,
   "id": "ced46e18-d467-4faf-8caa-8dbe8cbb469e",
   "metadata": {},
   "outputs": [],
   "source": [
    "#Lets cache the dataframe thats enriched and data handled for reuse"
   ]
  },
  {
   "cell_type": "code",
   "execution_count": 17,
   "id": "f87e80b1-4a78-4377-9eea-db3a476acb2d",
   "metadata": {},
   "outputs": [
    {
     "data": {
      "text/plain": [
       "DataFrame[transaction_id: string, customer_id: string, product_name: string, product_category: string, quantity: double, price: double, transaction_date: timestamp, store_location: string, payment_method: string, discount_applied: double, transaction_year: int, transaction_month: int]"
      ]
     },
     "execution_count": 17,
     "metadata": {},
     "output_type": "execute_result"
    }
   ],
   "source": [
    "# Repartition by customer_id for better join performance\n",
    "customers_df_enriched = customers_df_enriched.repartition(\"customer_id\")\n",
    "transactions_df_enriched = transactions_df_enriched.repartition(\"customer_id\")\n",
    "\n",
    "# Cache for reuse\n",
    "customers_df_enriched.cache()\n",
    "transactions_df_enriched.cache()\n"
   ]
  },
  {
   "cell_type": "code",
   "execution_count": 12,
   "id": "c1e89200-9e7f-4995-bdba-02ba5298e811",
   "metadata": {},
   "outputs": [],
   "source": [
    "#Lets Explore Joins"
   ]
  },
  {
   "cell_type": "code",
   "execution_count": 18,
   "id": "526fc617-253c-47cc-8a6e-c1903b324475",
   "metadata": {},
   "outputs": [],
   "source": [
    "#Inner Join\n",
    "\n",
    "inner_join_df = transactions_df_enriched.join(customers_df_enriched, how=\"inner\", on=\"customer_id\")\n"
   ]
  },
  {
   "cell_type": "code",
   "execution_count": 19,
   "id": "b7465517-779d-4419-be81-9f0082aca5bd",
   "metadata": {},
   "outputs": [],
   "source": [
    "#Left Outer Join\n",
    "\n",
    "left_outer_join_df = transactions_df_enriched.join(customers_df_enriched, how=\"left\", on=\"customer_id\")"
   ]
  },
  {
   "cell_type": "code",
   "execution_count": 20,
   "id": "ceadfbd6-d8bd-44df-8a20-2520e422bcd0",
   "metadata": {},
   "outputs": [],
   "source": [
    "#Right Outer Join\n",
    "\n",
    "right_outer_join_df = transactions_df_enriched.join(customers_df_enriched, how=\"right\", on=\"customer_id\")"
   ]
  },
  {
   "cell_type": "code",
   "execution_count": 21,
   "id": "4d6db799-9765-4015-8de2-2da292e496c5",
   "metadata": {},
   "outputs": [],
   "source": [
    "#Full Outer Join\n",
    "\n",
    "full_outer_join_df = transactions_df_enriched.join(customers_df_enriched, how=\"full\", on=\"customer_id\")"
   ]
  },
  {
   "cell_type": "code",
   "execution_count": 22,
   "id": "a8aa1dfc-9dee-442f-8455-acb059d2b1b1",
   "metadata": {},
   "outputs": [],
   "source": [
    "#Broadcast Join\n",
    "\n",
    "broadcast_join_df =transactions_df_enriched.join(broadcast(customers_df_enriched), how=\"outer\", on=\"customer_id\")"
   ]
  },
  {
   "cell_type": "code",
   "execution_count": 18,
   "id": "9a6cf48d-a842-4107-ab33-ddc03d93f6fc",
   "metadata": {},
   "outputs": [],
   "source": [
    "#Common Aggregations & Transformations"
   ]
  },
  {
   "cell_type": "code",
   "execution_count": 23,
   "id": "41b0449e-cd2b-400c-84df-1e7b01d40b1b",
   "metadata": {},
   "outputs": [
    {
     "name": "stderr",
     "output_type": "stream",
     "text": [
      "[Stage 23:=============================================>          (50 + 2) / 61]\r"
     ]
    },
    {
     "name": "stdout",
     "output_type": "stream",
     "text": [
      "+--------+-------+----------------+\n",
      "|quantity|  price|discount_applied|\n",
      "+--------+-------+----------------+\n",
      "|     2.0|1425.13|            null|\n",
      "|     2.0| 744.62|            null|\n",
      "|     1.0| 746.84|            null|\n",
      "|     1.0|1928.22|            null|\n",
      "|     1.0| 125.76|            null|\n",
      "|     1.0|   40.8|            null|\n",
      "|     2.0|   62.1|            null|\n",
      "|     1.0| 134.51|            null|\n",
      "|     1.0|  207.4|            null|\n",
      "|     1.0|  51.95|            null|\n",
      "|     2.0| 459.22|            null|\n",
      "|     2.0| 158.67|            null|\n",
      "|     1.0|2097.37|            null|\n",
      "|     1.0| 808.35|            null|\n",
      "|     1.0|  27.58|            null|\n",
      "|     1.0| 138.24|            null|\n",
      "|     2.0| 721.28|            null|\n",
      "|     1.0| 118.36|            null|\n",
      "|     1.0|1298.82|            null|\n",
      "|     1.0|  647.8|            null|\n",
      "+--------+-------+----------------+\n",
      "only showing top 20 rows\n",
      "\n"
     ]
    },
    {
     "name": "stderr",
     "output_type": "stream",
     "text": [
      "                                                                                \r"
     ]
    }
   ],
   "source": [
    "#To Find Total Spend per customer, lets first create a amount column with price & quantity and then apply the discount percentage\n",
    "\n",
    "#transactions_df_enriched = transactions_df_enriched.withColumn(\"amount\", col(\"quantity\") * col(\"price\"))\n",
    "\n",
    "#transactions_df_enriched = transactions_df_enriched.withColumn(\"final_amount\", col(\"amount\") - col(\"discount_applied\"))\n",
    "\n",
    "\n",
    "#We found NULL being reported for most final_amount - Lets Investigate\n",
    "\n",
    "transactions_df_enriched.select(\"quantity\", \"price\", \"discount_applied\")\\\n",
    "                        .where(col(\"quantity\").isNull() | col(\"price\").isNull() | col(\"discount_applied\").isNull())\\\n",
    "                        .show()\n",
    "\n",
    "#It is now investigated that in the dataset there is Quqntity value blank when price is present thus it cascades null to final_amount"
   ]
  },
  {
   "cell_type": "code",
   "execution_count": 24,
   "id": "76426a78-2f36-4c8c-95b0-de2c3ad8f71b",
   "metadata": {},
   "outputs": [],
   "source": [
    "#It is now investigated that in the dataset there is Quqntity value blank when price is present thus it cascades null to final_amount\n",
    "#Lets create safe columns without NUll before calculating Final Amount\n",
    "\n",
    "#We tried coalesce but that was replacing all with 0.0 because quantity is blank and not null. So alrernate method below\n",
    "\n",
    "from pyspark.sql.functions import col, when, lit\n",
    "\n",
    "# Replace empty strings or nulls with 0 for quantity and price\n",
    "transactions_df_enriched = transactions_df_enriched\\\n",
    "                        .withColumn(\"clean_quantity\", when((col(\"quantity\").isNull()) | (col(\"quantity\") == \"\"), lit(0))\\\n",
    "                                    .otherwise(col(\"quantity\").cast(\"int\")))\\\n",
    "                        .withColumn(\"clean_price\", when((col(\"price\").isNull()) | (col(\"price\") == \"\"), lit(0.0))\\\n",
    "                                    .otherwise(col(\"price\").cast(\"double\")))\\\n",
    "                        .withColumn(\"clean_discount\", when((col(\"discount_applied\").isNull()) | (col(\"discount_applied\") == \"\"), lit(0))\\\n",
    "                                    .otherwise(col(\"discount_applied\").cast(\"int\")))\\\n",
    "                        .withColumn(\"amount\", col(\"clean_quantity\") * col(\"clean_price\"))\\\n",
    "                        .withColumn(\"final_amount\", col(\"amount\") - col(\"clean_discount\"))\n",
    "\n"
   ]
  },
  {
   "cell_type": "code",
   "execution_count": 25,
   "id": "553ed7ca-ceff-40cf-b63f-e69552bc9e65",
   "metadata": {},
   "outputs": [],
   "source": [
    "#Now that we got the final columns - final_amount / amount we can drop the safe columns we created.\n",
    "\n",
    "transactions_df_enriched = transactions_df_enriched.drop(\"clean_quantity\",\"clean_price\",\"clean_discount\")"
   ]
  },
  {
   "cell_type": "code",
   "execution_count": 26,
   "id": "3d5a191b-19f9-477f-869d-bfff6667d62f",
   "metadata": {},
   "outputs": [],
   "source": [
    "#To Find Total Spend per customer\n",
    "\n",
    "total_spend_df = transactions_df_enriched.groupBy(\"customer_id\").agg(sum(\"final_amount\").alias(\"total_spend\"))"
   ]
  },
  {
   "cell_type": "code",
   "execution_count": 27,
   "id": "41f31021-0e54-4ac1-87ca-669d7ba80758",
   "metadata": {},
   "outputs": [],
   "source": [
    "#Average Spend Per Store\n",
    "\n",
    "average_spend_df = transactions_df_enriched.groupBy(\"store_location\").agg(avg(\"final_amount\").alias(\"avg_spend\"))"
   ]
  },
  {
   "cell_type": "code",
   "execution_count": 28,
   "id": "03885750-e493-41d8-8515-af9ea90424d1",
   "metadata": {},
   "outputs": [],
   "source": [
    "#Count of Transactions Per Payment Method\n",
    "\n",
    "count_trans_paymentMethod = transactions_df_enriched.groupBy(\"payment_method\").agg(count(\"transaction_id\"))\n"
   ]
  },
  {
   "cell_type": "code",
   "execution_count": 29,
   "id": "1d31bb9c-c249-4650-9004-1b06e17c0937",
   "metadata": {},
   "outputs": [],
   "source": [
    "#High-Value Transactions (Final Amount > 1000)\n",
    "\n",
    "transactions_highvalue_df = transactions_df_enriched.filter(\"final_amount > 1000\")"
   ]
  },
  {
   "cell_type": "code",
   "execution_count": 30,
   "id": "d00cd821-2384-4611-a9d8-3a141ae6e32a",
   "metadata": {},
   "outputs": [],
   "source": [
    "#Top N Customers by Spend\n",
    "\n",
    "top_customer_df = total_spend_df.orderBy(col(\"total_spend\").desc()).limit(10)\n",
    "\n"
   ]
  },
  {
   "cell_type": "code",
   "execution_count": 90,
   "id": "e3ff3943-355d-43ca-9a58-f2077b5ab7af",
   "metadata": {},
   "outputs": [],
   "source": [
    "# Count of Transactions per City - this may not give accurate result\n",
    "\n",
    "#trans_city_df = customers_df_enriched.join(transactions_df_enriched, on=\"customer_id\", how = \"left\").groupBy(\"city\").count()"
   ]
  },
  {
   "cell_type": "code",
   "execution_count": 31,
   "id": "9ee384e2-4706-41bc-ac86-faab74ba5523",
   "metadata": {},
   "outputs": [],
   "source": [
    "# Count of Transactions per City\n",
    "\n",
    "trans_city_df = customers_df_enriched.join(transactions_df_enriched, on=\"customer_id\", how = \"left\").groupBy(\"city\").agg(count(when(col(\"transaction_id\").isNotNull(),1)).alias(\"transaction_count\"))"
   ]
  },
  {
   "cell_type": "code",
   "execution_count": 32,
   "id": "9a8746bd-c57f-43d5-a844-38a5be5378e3",
   "metadata": {},
   "outputs": [],
   "source": [
    "#Average Spend per Month\n",
    "\n",
    "avg_spend_month = transactions_df_enriched.groupBy(\"transaction_month\").agg(avg(\"final_amount\").alias(\"avg_spend_month\"))"
   ]
  },
  {
   "cell_type": "code",
   "execution_count": 35,
   "id": "7addce9f-9dfe-4dac-8be1-d2f69bdefe9c",
   "metadata": {},
   "outputs": [],
   "source": [
    "#Rename & Drop Columns\n",
    "renamed_df = transactions_df_enriched.withColumnRenamed(\"total_amount\" , \"final_amount\")\n",
    "\n",
    "transactions_df_enriched = renamed_df.drop(\"total_amount\")\n",
    "\n",
    "\n"
   ]
  },
  {
   "cell_type": "code",
   "execution_count": 36,
   "id": "9d2cceac-e531-41a8-8f90-c8e34842d934",
   "metadata": {},
   "outputs": [
    {
     "name": "stdout",
     "output_type": "stream",
     "text": [
      "+--------------------+--------------------+------------------+--------------------+--------+-------+-------------------+---------------+--------------+----------------+----------------+-----------------+-----------------+-----------------+\n",
      "|      transaction_id|         customer_id|      product_name|    product_category|quantity|  price|   transaction_date| store_location|payment_method|discount_applied|transaction_year|transaction_month|           amount|     final_amount|\n",
      "+--------------------+--------------------+------------------+--------------------+--------+-------+-------------------+---------------+--------------+----------------+----------------+-----------------+-----------------+-----------------+\n",
      "|bde856d7-22e6-441...|1280bddb-d9ed-4dc...|           Toaster|Small Kitchen App...|     1.0| 206.91|2023-01-07 00:00:00|    Seattle, WA|     Apple Pay|             0.0|            2023|                1|           206.91|           206.91|\n",
      "|38c27959-ac74-4a2...|256c3dc8-04a9-41b...|    Microwave Oven|  Kitchen Appliances|     1.0| 859.13|2024-12-20 00:00:00|      Miami, FL|   Credit Card|            20.0|            2024|               12|           859.13|           839.13|\n",
      "|bb0009d5-b09f-4a1...|2fa8b3e5-af90-4be...|           Pillows|             Bedding|     1.0| 254.09|2024-02-21 00:00:00|         Online|    Debit Card|             0.0|            2024|                2|           254.09|           254.09|\n",
      "|2cb4b02f-c804-45c...|2fe076bb-d401-427...|   Mattress Topper|             Bedding|     2.0| 134.34|2023-02-25 00:00:00|         Online|    Debit Card|             0.0|            2023|                2|           268.68|           268.68|\n",
      "|93fe10fd-1ba6-4cc...|377dacf5-92d0-496...|         Bookshelf|           Furniture|     2.0| 742.35|2023-03-04 00:00:00|Los Angeles, CA|    Google Pay|             0.0|            2023|                3|           1484.7|           1484.7|\n",
      "|c5cc3025-81fd-4da...|43d172e3-4ee1-475...|Samsung Galaxy S22|         Smartphones|     1.0| 705.05|2022-07-24 00:00:00|         Online|   Credit Card|             0.0|            2022|                7|           705.05|           705.05|\n",
      "|073e8c29-b8b3-4d9...|455c05cc-3c5c-4f0...|      Dining Table|           Furniture|     2.0| 879.88|2024-06-11 00:00:00|   New York, NY|    Google Pay|             5.0|            2024|                6|          1759.76|          1754.76|\n",
      "|e77fd735-4c34-4f2...|54e325e2-8499-44e...|   Samsung QLED TV|                 TVs|     3.0|2120.93|2022-08-27 00:00:00|    Chicago, IL|   Credit Card|             0.0|            2022|                8|6362.789999999999|6362.789999999999|\n",
      "|58e89024-3035-431...|64afc1c8-2eaa-446...|        Range Hood|  Kitchen Appliances|     1.0| 655.57|2022-10-05 00:00:00|         Online|   Credit Card|            30.0|            2022|               10|           655.57|           625.57|\n",
      "|87ba9c24-e11f-472...|81b29f5b-a070-45a...|       Amazon Echo|  Smart Home Devices|     1.0|  50.24|2023-02-12 00:00:00|   New York, NY|     Gift Card|             0.0|            2023|                2|            50.24|            50.24|\n",
      "|ed88aaa7-b0c6-4a8...|861c66ad-3aec-4da...|       Office Desk|           Furniture|     2.0|1224.12|2021-08-15 00:00:00|         Online|   Credit Card|             0.0|            2021|                8|          2448.24|          2448.24|\n",
      "|624860f2-24cd-464...|8a185511-3dc2-469...|       Office Desk|           Furniture|     1.0| 1489.2|2024-03-08 00:00:00|    Chicago, IL|    Debit Card|             5.0|            2024|                3|           1489.2|           1484.2|\n",
      "|b5320bd2-2aec-490...|99ba027b-24e2-406...|     Throw Pillows|          Home Decor|     2.0|  177.2|2023-08-21 00:00:00|    Chicago, IL|   Credit Card|            15.0|            2023|                8|            354.4|            339.4|\n",
      "|97dc7aa0-e5eb-4e8...|bdb529e6-281d-4ab...|          Curtains|                null|     1.0|  67.78|2024-09-26 00:00:00|    Houston, TX|        PayPal|            25.0|            2024|                9|            67.78|            42.78|\n",
      "|c80a4c53-c623-4e6...|dcdb6180-6f27-4dd...|      Oculus Quest|     Gaming Consoles|     1.0| 507.42|2022-03-25 00:00:00|         Online|    Debit Card|             0.0|            2022|                3|           507.42|           507.42|\n",
      "|f0f23743-98c8-4ee...|e2275f6f-253e-44e...|Samsung Galaxy S22|         Smartphones|     1.0|1097.29|2024-12-05 00:00:00|     Boston, MA|    Debit Card|            30.0|            2024|               12|          1097.29|          1067.29|\n",
      "|c30922ff-a6d4-4f8...|e5249c67-3787-4ee...|         Knife Set|            Cookware|     1.0| 221.37|2023-05-25 00:00:00|         Online|     Apple Pay|            30.0|            2023|                5|           221.37|           191.37|\n",
      "|86f7a786-393a-4da...|e8aa2256-69c1-433...|   Bose Headphones|     Audio Equipment|     1.0| 516.39|2023-08-11 00:00:00|     Denver, CO|    Debit Card|             0.0|            2023|                8|           516.39|           516.39|\n",
      "|25630d53-c46c-487...|eacf4624-88d9-4aa...|        Table Lamp|          Home Decor|     1.0| 151.42|2024-11-10 00:00:00|         Online|          Cash|             0.0|            2024|               11|           151.42|           151.42|\n",
      "|bbc28b18-2852-445...|ebbb77a6-097b-47b...|    Electric Range|  Kitchen Appliances|     2.0| 456.52|2024-11-23 00:00:00|Los Angeles, CA|    Debit Card|            25.0|            2024|               11|           913.04|           888.04|\n",
      "+--------------------+--------------------+------------------+--------------------+--------+-------+-------------------+---------------+--------------+----------------+----------------+-----------------+-----------------+-----------------+\n",
      "only showing top 20 rows\n",
      "\n"
     ]
    }
   ],
   "source": [
    "transactions_df_enriched.show()"
   ]
  },
  {
   "cell_type": "code",
   "execution_count": 37,
   "id": "505f5e76-23f2-4c9a-9195-e65c9a52a16e",
   "metadata": {},
   "outputs": [],
   "source": [
    "#Adding Derived Columns (withColumn)\n",
    "\n",
    "from pyspark.sql.functions import when\n",
    "\n",
    "transactions_flagged_df = transactions_df_enriched.withColumn(\"high_value_flag\",when(transactions_df_enriched[\"amount\"] > 1000, \"HIGH\")\\\n",
    "                                                                .otherwise(\"NORMAL\"))\n"
   ]
  },
  {
   "cell_type": "code",
   "execution_count": 38,
   "id": "a220a6b1-fb47-4128-af43-da40c55ca908",
   "metadata": {},
   "outputs": [],
   "source": [
    "#Select and Rename Columns\n",
    "\n",
    "renamed_df = transactions_flagged_df.selectExpr(\"transaction_id as txn_id\",\"customer_id\",\"amount\",\"high_value_flag\")\n"
   ]
  },
  {
   "cell_type": "code",
   "execution_count": 95,
   "id": "3fc6f3b7-5475-4a74-bda6-74cf8e0d82f3",
   "metadata": {},
   "outputs": [
    {
     "name": "stdout",
     "output_type": "stream",
     "text": [
      "+--------------------+--------------------+-----------------+---------------+\n",
      "|              txn_id|         customer_id|           amount|high_value_flag|\n",
      "+--------------------+--------------------+-----------------+---------------+\n",
      "|bde856d7-22e6-441...|1280bddb-d9ed-4dc...|           206.91|         NORMAL|\n",
      "|38c27959-ac74-4a2...|256c3dc8-04a9-41b...|           859.13|         NORMAL|\n",
      "|bb0009d5-b09f-4a1...|2fa8b3e5-af90-4be...|           254.09|         NORMAL|\n",
      "|2cb4b02f-c804-45c...|2fe076bb-d401-427...|           268.68|         NORMAL|\n",
      "|93fe10fd-1ba6-4cc...|377dacf5-92d0-496...|           1484.7|           HIGH|\n",
      "|c5cc3025-81fd-4da...|43d172e3-4ee1-475...|           705.05|         NORMAL|\n",
      "|073e8c29-b8b3-4d9...|455c05cc-3c5c-4f0...|          1759.76|           HIGH|\n",
      "|e77fd735-4c34-4f2...|54e325e2-8499-44e...|6362.789999999999|           HIGH|\n",
      "|58e89024-3035-431...|64afc1c8-2eaa-446...|           655.57|         NORMAL|\n",
      "|87ba9c24-e11f-472...|81b29f5b-a070-45a...|            50.24|         NORMAL|\n",
      "|ed88aaa7-b0c6-4a8...|861c66ad-3aec-4da...|          2448.24|           HIGH|\n",
      "|624860f2-24cd-464...|8a185511-3dc2-469...|           1489.2|           HIGH|\n",
      "|b5320bd2-2aec-490...|99ba027b-24e2-406...|            354.4|         NORMAL|\n",
      "|97dc7aa0-e5eb-4e8...|bdb529e6-281d-4ab...|            67.78|         NORMAL|\n",
      "|c80a4c53-c623-4e6...|dcdb6180-6f27-4dd...|           507.42|         NORMAL|\n",
      "|f0f23743-98c8-4ee...|e2275f6f-253e-44e...|          1097.29|           HIGH|\n",
      "|c30922ff-a6d4-4f8...|e5249c67-3787-4ee...|           221.37|         NORMAL|\n",
      "|86f7a786-393a-4da...|e8aa2256-69c1-433...|           516.39|         NORMAL|\n",
      "|25630d53-c46c-487...|eacf4624-88d9-4aa...|           151.42|         NORMAL|\n",
      "|bbc28b18-2852-445...|ebbb77a6-097b-47b...|           913.04|         NORMAL|\n",
      "+--------------------+--------------------+-----------------+---------------+\n",
      "only showing top 20 rows\n",
      "\n"
     ]
    }
   ],
   "source": [
    "renamed_df.show()"
   ]
  },
  {
   "cell_type": "code",
   "execution_count": null,
   "id": "2e700438-8f74-44aa-ad8e-b754cdbf6337",
   "metadata": {},
   "outputs": [],
   "source": [
    "# Repartition and Cache (optional for performance tuning)"
   ]
  },
  {
   "cell_type": "code",
   "execution_count": 41,
   "id": "b0df6b02-4949-4781-b287-e0026e0d1305",
   "metadata": {},
   "outputs": [
    {
     "name": "stdout",
     "output_type": "stream",
     "text": [
      "root\n",
      " |-- customer_id: string (nullable = true)\n",
      " |-- transaction_id: string (nullable = true)\n",
      " |-- product_name: string (nullable = true)\n",
      " |-- product_category: string (nullable = true)\n",
      " |-- quantity: double (nullable = true)\n",
      " |-- price: double (nullable = true)\n",
      " |-- transaction_date: timestamp (nullable = true)\n",
      " |-- store_location: string (nullable = true)\n",
      " |-- payment_method: string (nullable = true)\n",
      " |-- discount_applied: double (nullable = true)\n",
      " |-- transaction_year: integer (nullable = true)\n",
      " |-- transaction_month: integer (nullable = true)\n",
      " |-- amount: double (nullable = true)\n",
      " |-- final_amount: double (nullable = true)\n",
      "\n"
     ]
    }
   ],
   "source": [
    "sample_txns.printSchema()"
   ]
  },
  {
   "cell_type": "code",
   "execution_count": 42,
   "id": "31616f76-0dc7-47fb-8bd4-6ff5d47a9968",
   "metadata": {},
   "outputs": [],
   "source": [
    "from pyspark.sql.functions import lit, monotonically_increasing_id\n",
    "from pyspark.sql import DataFrame\n",
    "\n",
    "# 1. Pick a sample of customers to duplicate\n",
    "sample_customers = transactions_df_enriched.select(\"customer_id\").distinct().limit(5)\n",
    "\n",
    "\n"
   ]
  },
  {
   "cell_type": "code",
   "execution_count": 43,
   "id": "8a14323e-f714-4868-8de9-1d9f3db3bb19",
   "metadata": {},
   "outputs": [],
   "source": [
    "# 2. Join with transactions to get their original transactions\n",
    "sample_txns = sample_customers.join(transactions_df_enriched, on=\"customer_id\", how=\"inner\")\n",
    "\n"
   ]
  },
  {
   "cell_type": "code",
   "execution_count": 45,
   "id": "ce2b620f-49a7-4033-aefc-1fea94fbb126",
   "metadata": {},
   "outputs": [
    {
     "ename": "AnalysisException",
     "evalue": "Resolved attribute(s) quantity#2126,price#2127 missing from customer_id#59,transaction_id#2193L,product_name#2124,product_category#2125,quantity#2208,price#2223,transaction_date#2128,store_location#2129,payment_method#2130,discount_applied#2131,transaction_year#102,transaction_month#114,amount#1199,final_amount#1702 in operator !Project [customer_id#59, transaction_id#2193L, product_name#2124, product_category#2125, quantity#2208, price#2223, transaction_date#2128, store_location#2129, payment_method#2130, discount_applied#2131, transaction_year#102, transaction_month#114, amount#1199, ((quantity#2126 + 1.0) * (price#2127 * 1.2)) AS final_amount#2238]. Attribute(s) with the same name appear in the operation: quantity,price. Please check if the right attribute(s) are used.;\n!Project [customer_id#59, transaction_id#2193L, product_name#2124, product_category#2125, quantity#2208, price#2223, transaction_date#2128, store_location#2129, payment_method#2130, discount_applied#2131, transaction_year#102, transaction_month#114, amount#1199, ((quantity#2126 + 1.0) * (price#2127 * 1.2)) AS final_amount#2238]\n+- Project [customer_id#59, transaction_id#2193L, product_name#2124, product_category#2125, quantity#2208, (price#2127 * 1.2) AS price#2223, transaction_date#2128, store_location#2129, payment_method#2130, discount_applied#2131, transaction_year#102, transaction_month#114, amount#1199, final_amount#1702]\n   +- Project [customer_id#59, transaction_id#2193L, product_name#2124, product_category#2125, (quantity#2126 + cast(1 as double)) AS quantity#2208, price#2127, transaction_date#2128, store_location#2129, payment_method#2130, discount_applied#2131, transaction_year#102, transaction_month#114, amount#1199, final_amount#1702]\n      +- Project [customer_id#59, monotonically_increasing_id() AS transaction_id#2193L, product_name#2124, product_category#2125, quantity#2126, price#2127, transaction_date#2128, store_location#2129, payment_method#2130, discount_applied#2131, transaction_year#102, transaction_month#114, amount#1199, final_amount#1702]\n         +- Project [customer_id#59, transaction_id#2122, product_name#2124, product_category#2125, quantity#2126, price#2127, transaction_date#2128, store_location#2129, payment_method#2130, discount_applied#2131, transaction_year#102, transaction_month#114, amount#1199, final_amount#1702]\n            +- Join Inner, (customer_id#59 = customer_id#2123)\n               :- GlobalLimit 5\n               :  +- LocalLimit 5\n               :     +- Deduplicate [customer_id#59]\n               :        +- Project [customer_id#59]\n               :           +- Project [transaction_id#58, customer_id#59, product_name#60, product_category#61, quantity#62, price#63, transaction_date#64, store_location#65, payment_method#66, discount_applied#67, transaction_year#102, transaction_month#114, amount#1199, total_amount#1376 AS final_amount#1702]\n               :              +- Project [transaction_id#58, customer_id#59, product_name#60, product_category#61, quantity#62, price#63, transaction_date#64, store_location#65, payment_method#66, discount_applied#67, transaction_year#102, transaction_month#114, amount#1199, final_amount#1216 AS total_amount#1376]\n               :                 +- Project [transaction_id#58, customer_id#59, product_name#60, product_category#61, quantity#62, price#63, transaction_date#64, store_location#65, payment_method#66, discount_applied#67, transaction_year#102, transaction_month#114, amount#1199, final_amount#1216]\n               :                    +- Project [transaction_id#58, customer_id#59, product_name#60, product_category#61, quantity#62, price#63, transaction_date#64, store_location#65, payment_method#66, discount_applied#67, transaction_year#102, transaction_month#114, clean_quantity#1154, clean_price#1168, clean_discount#1183, amount#1199, (amount#1199 - cast(clean_discount#1183 as double)) AS final_amount#1216]\n               :                       +- Project [transaction_id#58, customer_id#59, product_name#60, product_category#61, quantity#62, price#63, transaction_date#64, store_location#65, payment_method#66, discount_applied#67, transaction_year#102, transaction_month#114, clean_quantity#1154, clean_price#1168, clean_discount#1183, (cast(clean_quantity#1154 as double) * clean_price#1168) AS amount#1199]\n               :                          +- Project [transaction_id#58, customer_id#59, product_name#60, product_category#61, quantity#62, price#63, transaction_date#64, store_location#65, payment_method#66, discount_applied#67, transaction_year#102, transaction_month#114, clean_quantity#1154, clean_price#1168, CASE WHEN (isnull(discount_applied#67) OR (discount_applied#67 = cast( as double))) THEN 0 ELSE cast(discount_applied#67 as int) END AS clean_discount#1183]\n               :                             +- Project [transaction_id#58, customer_id#59, product_name#60, product_category#61, quantity#62, price#63, transaction_date#64, store_location#65, payment_method#66, discount_applied#67, transaction_year#102, transaction_month#114, clean_quantity#1154, CASE WHEN (isnull(price#63) OR (price#63 = cast( as double))) THEN 0.0 ELSE cast(price#63 as double) END AS clean_price#1168]\n               :                                +- Project [transaction_id#58, customer_id#59, product_name#60, product_category#61, quantity#62, price#63, transaction_date#64, store_location#65, payment_method#66, discount_applied#67, transaction_year#102, transaction_month#114, CASE WHEN (isnull(quantity#62) OR (quantity#62 = cast( as double))) THEN 0 ELSE cast(quantity#62 as int) END AS clean_quantity#1154]\n               :                                   +- RepartitionByExpression [customer_id#59]\n               :                                      +- Project [transaction_id#58, customer_id#59, product_name#60, product_category#61, quantity#62, price#63, transaction_date#64, store_location#65, payment_method#66, discount_applied#67, transaction_year#102, month(cast(transaction_date#64 as date)) AS transaction_month#114]\n               :                                         +- Project [transaction_id#58, customer_id#59, product_name#60, product_category#61, quantity#62, price#63, transaction_date#64, store_location#65, payment_method#66, discount_applied#67, year(cast(transaction_date#64 as date)) AS transaction_year#102]\n               :                                            +- Deduplicate [customer_id#59]\n               :                                               +- Filter atleastnnonnulls(4, customer_id#59, transaction_id#58, quantity#62, price#63)\n               :                                                  +- Relation [transaction_id#58,customer_id#59,product_name#60,product_category#61,quantity#62,price#63,transaction_date#64,store_location#65,payment_method#66,discount_applied#67] csv\n               +- Project [transaction_id#2122, customer_id#2123, product_name#2124, product_category#2125, quantity#2126, price#2127, transaction_date#2128, store_location#2129, payment_method#2130, discount_applied#2131, transaction_year#102, transaction_month#114, amount#1199, total_amount#1376 AS final_amount#1702]\n                  +- Project [transaction_id#2122, customer_id#2123, product_name#2124, product_category#2125, quantity#2126, price#2127, transaction_date#2128, store_location#2129, payment_method#2130, discount_applied#2131, transaction_year#102, transaction_month#114, amount#1199, final_amount#1216 AS total_amount#1376]\n                     +- Project [transaction_id#2122, customer_id#2123, product_name#2124, product_category#2125, quantity#2126, price#2127, transaction_date#2128, store_location#2129, payment_method#2130, discount_applied#2131, transaction_year#102, transaction_month#114, amount#1199, final_amount#1216]\n                        +- Project [transaction_id#2122, customer_id#2123, product_name#2124, product_category#2125, quantity#2126, price#2127, transaction_date#2128, store_location#2129, payment_method#2130, discount_applied#2131, transaction_year#102, transaction_month#114, clean_quantity#1154, clean_price#1168, clean_discount#1183, amount#1199, (amount#1199 - cast(clean_discount#1183 as double)) AS final_amount#1216]\n                           +- Project [transaction_id#2122, customer_id#2123, product_name#2124, product_category#2125, quantity#2126, price#2127, transaction_date#2128, store_location#2129, payment_method#2130, discount_applied#2131, transaction_year#102, transaction_month#114, clean_quantity#1154, clean_price#1168, clean_discount#1183, (cast(clean_quantity#1154 as double) * clean_price#1168) AS amount#1199]\n                              +- Project [transaction_id#2122, customer_id#2123, product_name#2124, product_category#2125, quantity#2126, price#2127, transaction_date#2128, store_location#2129, payment_method#2130, discount_applied#2131, transaction_year#102, transaction_month#114, clean_quantity#1154, clean_price#1168, CASE WHEN (isnull(discount_applied#2131) OR (discount_applied#2131 = cast( as double))) THEN 0 ELSE cast(discount_applied#2131 as int) END AS clean_discount#1183]\n                                 +- Project [transaction_id#2122, customer_id#2123, product_name#2124, product_category#2125, quantity#2126, price#2127, transaction_date#2128, store_location#2129, payment_method#2130, discount_applied#2131, transaction_year#102, transaction_month#114, clean_quantity#1154, CASE WHEN (isnull(price#2127) OR (price#2127 = cast( as double))) THEN 0.0 ELSE cast(price#2127 as double) END AS clean_price#1168]\n                                    +- Project [transaction_id#2122, customer_id#2123, product_name#2124, product_category#2125, quantity#2126, price#2127, transaction_date#2128, store_location#2129, payment_method#2130, discount_applied#2131, transaction_year#102, transaction_month#114, CASE WHEN (isnull(quantity#2126) OR (quantity#2126 = cast( as double))) THEN 0 ELSE cast(quantity#2126 as int) END AS clean_quantity#1154]\n                                       +- RepartitionByExpression [customer_id#2123]\n                                          +- Project [transaction_id#2122, customer_id#2123, product_name#2124, product_category#2125, quantity#2126, price#2127, transaction_date#2128, store_location#2129, payment_method#2130, discount_applied#2131, transaction_year#102, month(cast(transaction_date#2128 as date)) AS transaction_month#114]\n                                             +- Project [transaction_id#2122, customer_id#2123, product_name#2124, product_category#2125, quantity#2126, price#2127, transaction_date#2128, store_location#2129, payment_method#2130, discount_applied#2131, year(cast(transaction_date#2128 as date)) AS transaction_year#102]\n                                                +- Deduplicate [customer_id#2123]\n                                                   +- Filter atleastnnonnulls(4, customer_id#2123, transaction_id#2122, quantity#2126, price#2127)\n                                                      +- Relation [transaction_id#2122,customer_id#2123,product_name#2124,product_category#2125,quantity#2126,price#2127,transaction_date#2128,store_location#2129,payment_method#2130,discount_applied#2131] csv\n",
     "output_type": "error",
     "traceback": [
      "\u001b[0;31m---------------------------------------------------------------------------\u001b[0m",
      "\u001b[0;31mAnalysisException\u001b[0m                         Traceback (most recent call last)",
      "\u001b[0;32m/tmp/ipykernel_76380/1675101051.py\u001b[0m in \u001b[0;36m<cell line: 2>\u001b[0;34m()\u001b[0m\n\u001b[1;32m      3\u001b[0m     \u001b[0;34m.\u001b[0m\u001b[0mwithColumn\u001b[0m\u001b[0;34m(\u001b[0m\u001b[0;34m\"quantity\"\u001b[0m\u001b[0;34m,\u001b[0m \u001b[0msample_txns\u001b[0m\u001b[0;34m[\u001b[0m\u001b[0;34m\"quantity\"\u001b[0m\u001b[0;34m]\u001b[0m \u001b[0;34m+\u001b[0m \u001b[0;36m1\u001b[0m\u001b[0;34m)\u001b[0m\u001b[0;31m \u001b[0m\u001b[0;31m\\\u001b[0m\u001b[0;34m\u001b[0m\u001b[0;34m\u001b[0m\u001b[0m\n\u001b[1;32m      4\u001b[0m     \u001b[0;34m.\u001b[0m\u001b[0mwithColumn\u001b[0m\u001b[0;34m(\u001b[0m\u001b[0;34m\"price\"\u001b[0m\u001b[0;34m,\u001b[0m \u001b[0msample_txns\u001b[0m\u001b[0;34m[\u001b[0m\u001b[0;34m\"price\"\u001b[0m\u001b[0;34m]\u001b[0m \u001b[0;34m*\u001b[0m \u001b[0;36m1.2\u001b[0m\u001b[0;34m)\u001b[0m\u001b[0;31m \u001b[0m\u001b[0;31m\\\u001b[0m\u001b[0;34m\u001b[0m\u001b[0;34m\u001b[0m\u001b[0m\n\u001b[0;32m----> 5\u001b[0;31m     \u001b[0;34m.\u001b[0m\u001b[0mwithColumn\u001b[0m\u001b[0;34m(\u001b[0m\u001b[0;34m\"final_amount\"\u001b[0m\u001b[0;34m,\u001b[0m \u001b[0;34m(\u001b[0m\u001b[0msample_txns\u001b[0m\u001b[0;34m[\u001b[0m\u001b[0;34m\"quantity\"\u001b[0m\u001b[0;34m]\u001b[0m \u001b[0;34m+\u001b[0m \u001b[0;36m1.0\u001b[0m\u001b[0;34m)\u001b[0m \u001b[0;34m*\u001b[0m \u001b[0;34m(\u001b[0m\u001b[0msample_txns\u001b[0m\u001b[0;34m[\u001b[0m\u001b[0;34m\"price\"\u001b[0m\u001b[0;34m]\u001b[0m \u001b[0;34m*\u001b[0m \u001b[0;36m1.2\u001b[0m\u001b[0;34m)\u001b[0m\u001b[0;34m)\u001b[0m\u001b[0;34m\u001b[0m\u001b[0;34m\u001b[0m\u001b[0m\n\u001b[0m",
      "\u001b[0;32m/usr/lib/spark/python/pyspark/sql/dataframe.py\u001b[0m in \u001b[0;36mwithColumn\u001b[0;34m(self, colName, col)\u001b[0m\n\u001b[1;32m   3034\u001b[0m         \u001b[0;32mif\u001b[0m \u001b[0;32mnot\u001b[0m \u001b[0misinstance\u001b[0m\u001b[0;34m(\u001b[0m\u001b[0mcol\u001b[0m\u001b[0;34m,\u001b[0m \u001b[0mColumn\u001b[0m\u001b[0;34m)\u001b[0m\u001b[0;34m:\u001b[0m\u001b[0;34m\u001b[0m\u001b[0;34m\u001b[0m\u001b[0m\n\u001b[1;32m   3035\u001b[0m             \u001b[0;32mraise\u001b[0m \u001b[0mTypeError\u001b[0m\u001b[0;34m(\u001b[0m\u001b[0;34m\"col should be Column\"\u001b[0m\u001b[0;34m)\u001b[0m\u001b[0;34m\u001b[0m\u001b[0;34m\u001b[0m\u001b[0m\n\u001b[0;32m-> 3036\u001b[0;31m         \u001b[0;32mreturn\u001b[0m \u001b[0mDataFrame\u001b[0m\u001b[0;34m(\u001b[0m\u001b[0mself\u001b[0m\u001b[0;34m.\u001b[0m\u001b[0m_jdf\u001b[0m\u001b[0;34m.\u001b[0m\u001b[0mwithColumn\u001b[0m\u001b[0;34m(\u001b[0m\u001b[0mcolName\u001b[0m\u001b[0;34m,\u001b[0m \u001b[0mcol\u001b[0m\u001b[0;34m.\u001b[0m\u001b[0m_jc\u001b[0m\u001b[0;34m)\u001b[0m\u001b[0;34m,\u001b[0m \u001b[0mself\u001b[0m\u001b[0;34m.\u001b[0m\u001b[0msparkSession\u001b[0m\u001b[0;34m)\u001b[0m\u001b[0;34m\u001b[0m\u001b[0;34m\u001b[0m\u001b[0m\n\u001b[0m\u001b[1;32m   3037\u001b[0m \u001b[0;34m\u001b[0m\u001b[0m\n\u001b[1;32m   3038\u001b[0m     \u001b[0;32mdef\u001b[0m \u001b[0mwithColumnRenamed\u001b[0m\u001b[0;34m(\u001b[0m\u001b[0mself\u001b[0m\u001b[0;34m,\u001b[0m \u001b[0mexisting\u001b[0m\u001b[0;34m:\u001b[0m \u001b[0mstr\u001b[0m\u001b[0;34m,\u001b[0m \u001b[0mnew\u001b[0m\u001b[0;34m:\u001b[0m \u001b[0mstr\u001b[0m\u001b[0;34m)\u001b[0m \u001b[0;34m->\u001b[0m \u001b[0;34m\"DataFrame\"\u001b[0m\u001b[0;34m:\u001b[0m\u001b[0;34m\u001b[0m\u001b[0;34m\u001b[0m\u001b[0m\n",
      "\u001b[0;32m/opt/conda/miniconda3/lib/python3.10/site-packages/py4j/java_gateway.py\u001b[0m in \u001b[0;36m__call__\u001b[0;34m(self, *args)\u001b[0m\n\u001b[1;32m   1319\u001b[0m \u001b[0;34m\u001b[0m\u001b[0m\n\u001b[1;32m   1320\u001b[0m         \u001b[0manswer\u001b[0m \u001b[0;34m=\u001b[0m \u001b[0mself\u001b[0m\u001b[0;34m.\u001b[0m\u001b[0mgateway_client\u001b[0m\u001b[0;34m.\u001b[0m\u001b[0msend_command\u001b[0m\u001b[0;34m(\u001b[0m\u001b[0mcommand\u001b[0m\u001b[0;34m)\u001b[0m\u001b[0;34m\u001b[0m\u001b[0;34m\u001b[0m\u001b[0m\n\u001b[0;32m-> 1321\u001b[0;31m         return_value = get_return_value(\n\u001b[0m\u001b[1;32m   1322\u001b[0m             answer, self.gateway_client, self.target_id, self.name)\n\u001b[1;32m   1323\u001b[0m \u001b[0;34m\u001b[0m\u001b[0m\n",
      "\u001b[0;32m/usr/lib/spark/python/pyspark/sql/utils.py\u001b[0m in \u001b[0;36mdeco\u001b[0;34m(*a, **kw)\u001b[0m\n\u001b[1;32m    194\u001b[0m                 \u001b[0;31m# Hide where the exception came from that shows a non-Pythonic\u001b[0m\u001b[0;34m\u001b[0m\u001b[0;34m\u001b[0m\u001b[0m\n\u001b[1;32m    195\u001b[0m                 \u001b[0;31m# JVM exception message.\u001b[0m\u001b[0;34m\u001b[0m\u001b[0;34m\u001b[0m\u001b[0m\n\u001b[0;32m--> 196\u001b[0;31m                 \u001b[0;32mraise\u001b[0m \u001b[0mconverted\u001b[0m \u001b[0;32mfrom\u001b[0m \u001b[0;32mNone\u001b[0m\u001b[0;34m\u001b[0m\u001b[0;34m\u001b[0m\u001b[0m\n\u001b[0m\u001b[1;32m    197\u001b[0m             \u001b[0;32melse\u001b[0m\u001b[0;34m:\u001b[0m\u001b[0;34m\u001b[0m\u001b[0;34m\u001b[0m\u001b[0m\n\u001b[1;32m    198\u001b[0m                 \u001b[0;32mraise\u001b[0m\u001b[0;34m\u001b[0m\u001b[0;34m\u001b[0m\u001b[0m\n",
      "\u001b[0;31mAnalysisException\u001b[0m: Resolved attribute(s) quantity#2126,price#2127 missing from customer_id#59,transaction_id#2193L,product_name#2124,product_category#2125,quantity#2208,price#2223,transaction_date#2128,store_location#2129,payment_method#2130,discount_applied#2131,transaction_year#102,transaction_month#114,amount#1199,final_amount#1702 in operator !Project [customer_id#59, transaction_id#2193L, product_name#2124, product_category#2125, quantity#2208, price#2223, transaction_date#2128, store_location#2129, payment_method#2130, discount_applied#2131, transaction_year#102, transaction_month#114, amount#1199, ((quantity#2126 + 1.0) * (price#2127 * 1.2)) AS final_amount#2238]. Attribute(s) with the same name appear in the operation: quantity,price. Please check if the right attribute(s) are used.;\n!Project [customer_id#59, transaction_id#2193L, product_name#2124, product_category#2125, quantity#2208, price#2223, transaction_date#2128, store_location#2129, payment_method#2130, discount_applied#2131, transaction_year#102, transaction_month#114, amount#1199, ((quantity#2126 + 1.0) * (price#2127 * 1.2)) AS final_amount#2238]\n+- Project [customer_id#59, transaction_id#2193L, product_name#2124, product_category#2125, quantity#2208, (price#2127 * 1.2) AS price#2223, transaction_date#2128, store_location#2129, payment_method#2130, discount_applied#2131, transaction_year#102, transaction_month#114, amount#1199, final_amount#1702]\n   +- Project [customer_id#59, transaction_id#2193L, product_name#2124, product_category#2125, (quantity#2126 + cast(1 as double)) AS quantity#2208, price#2127, transaction_date#2128, store_location#2129, payment_method#2130, discount_applied#2131, transaction_year#102, transaction_month#114, amount#1199, final_amount#1702]\n      +- Project [customer_id#59, monotonically_increasing_id() AS transaction_id#2193L, product_name#2124, product_category#2125, quantity#2126, price#2127, transaction_date#2128, store_location#2129, payment_method#2130, discount_applied#2131, transaction_year#102, transaction_month#114, amount#1199, final_amount#1702]\n         +- Project [customer_id#59, transaction_id#2122, product_name#2124, product_category#2125, quantity#2126, price#2127, transaction_date#2128, store_location#2129, payment_method#2130, discount_applied#2131, transaction_year#102, transaction_month#114, amount#1199, final_amount#1702]\n            +- Join Inner, (customer_id#59 = customer_id#2123)\n               :- GlobalLimit 5\n               :  +- LocalLimit 5\n               :     +- Deduplicate [customer_id#59]\n               :        +- Project [customer_id#59]\n               :           +- Project [transaction_id#58, customer_id#59, product_name#60, product_category#61, quantity#62, price#63, transaction_date#64, store_location#65, payment_method#66, discount_applied#67, transaction_year#102, transaction_month#114, amount#1199, total_amount#1376 AS final_amount#1702]\n               :              +- Project [transaction_id#58, customer_id#59, product_name#60, product_category#61, quantity#62, price#63, transaction_date#64, store_location#65, payment_method#66, discount_applied#67, transaction_year#102, transaction_month#114, amount#1199, final_amount#1216 AS total_amount#1376]\n               :                 +- Project [transaction_id#58, customer_id#59, product_name#60, product_category#61, quantity#62, price#63, transaction_date#64, store_location#65, payment_method#66, discount_applied#67, transaction_year#102, transaction_month#114, amount#1199, final_amount#1216]\n               :                    +- Project [transaction_id#58, customer_id#59, product_name#60, product_category#61, quantity#62, price#63, transaction_date#64, store_location#65, payment_method#66, discount_applied#67, transaction_year#102, transaction_month#114, clean_quantity#1154, clean_price#1168, clean_discount#1183, amount#1199, (amount#1199 - cast(clean_discount#1183 as double)) AS final_amount#1216]\n               :                       +- Project [transaction_id#58, customer_id#59, product_name#60, product_category#61, quantity#62, price#63, transaction_date#64, store_location#65, payment_method#66, discount_applied#67, transaction_year#102, transaction_month#114, clean_quantity#1154, clean_price#1168, clean_discount#1183, (cast(clean_quantity#1154 as double) * clean_price#1168) AS amount#1199]\n               :                          +- Project [transaction_id#58, customer_id#59, product_name#60, product_category#61, quantity#62, price#63, transaction_date#64, store_location#65, payment_method#66, discount_applied#67, transaction_year#102, transaction_month#114, clean_quantity#1154, clean_price#1168, CASE WHEN (isnull(discount_applied#67) OR (discount_applied#67 = cast( as double))) THEN 0 ELSE cast(discount_applied#67 as int) END AS clean_discount#1183]\n               :                             +- Project [transaction_id#58, customer_id#59, product_name#60, product_category#61, quantity#62, price#63, transaction_date#64, store_location#65, payment_method#66, discount_applied#67, transaction_year#102, transaction_month#114, clean_quantity#1154, CASE WHEN (isnull(price#63) OR (price#63 = cast( as double))) THEN 0.0 ELSE cast(price#63 as double) END AS clean_price#1168]\n               :                                +- Project [transaction_id#58, customer_id#59, product_name#60, product_category#61, quantity#62, price#63, transaction_date#64, store_location#65, payment_method#66, discount_applied#67, transaction_year#102, transaction_month#114, CASE WHEN (isnull(quantity#62) OR (quantity#62 = cast( as double))) THEN 0 ELSE cast(quantity#62 as int) END AS clean_quantity#1154]\n               :                                   +- RepartitionByExpression [customer_id#59]\n               :                                      +- Project [transaction_id#58, customer_id#59, product_name#60, product_category#61, quantity#62, price#63, transaction_date#64, store_location#65, payment_method#66, discount_applied#67, transaction_year#102, month(cast(transaction_date#64 as date)) AS transaction_month#114]\n               :                                         +- Project [transaction_id#58, customer_id#59, product_name#60, product_category#61, quantity#62, price#63, transaction_date#64, store_location#65, payment_method#66, discount_applied#67, year(cast(transaction_date#64 as date)) AS transaction_year#102]\n               :                                            +- Deduplicate [customer_id#59]\n               :                                               +- Filter atleastnnonnulls(4, customer_id#59, transaction_id#58, quantity#62, price#63)\n               :                                                  +- Relation [transaction_id#58,customer_id#59,product_name#60,product_category#61,quantity#62,price#63,transaction_date#64,store_location#65,payment_method#66,discount_applied#67] csv\n               +- Project [transaction_id#2122, customer_id#2123, product_name#2124, product_category#2125, quantity#2126, price#2127, transaction_date#2128, store_location#2129, payment_method#2130, discount_applied#2131, transaction_year#102, transaction_month#114, amount#1199, total_amount#1376 AS final_amount#1702]\n                  +- Project [transaction_id#2122, customer_id#2123, product_name#2124, product_category#2125, quantity#2126, price#2127, transaction_date#2128, store_location#2129, payment_method#2130, discount_applied#2131, transaction_year#102, transaction_month#114, amount#1199, final_amount#1216 AS total_amount#1376]\n                     +- Project [transaction_id#2122, customer_id#2123, product_name#2124, product_category#2125, quantity#2126, price#2127, transaction_date#2128, store_location#2129, payment_method#2130, discount_applied#2131, transaction_year#102, transaction_month#114, amount#1199, final_amount#1216]\n                        +- Project [transaction_id#2122, customer_id#2123, product_name#2124, product_category#2125, quantity#2126, price#2127, transaction_date#2128, store_location#2129, payment_method#2130, discount_applied#2131, transaction_year#102, transaction_month#114, clean_quantity#1154, clean_price#1168, clean_discount#1183, amount#1199, (amount#1199 - cast(clean_discount#1183 as double)) AS final_amount#1216]\n                           +- Project [transaction_id#2122, customer_id#2123, product_name#2124, product_category#2125, quantity#2126, price#2127, transaction_date#2128, store_location#2129, payment_method#2130, discount_applied#2131, transaction_year#102, transaction_month#114, clean_quantity#1154, clean_price#1168, clean_discount#1183, (cast(clean_quantity#1154 as double) * clean_price#1168) AS amount#1199]\n                              +- Project [transaction_id#2122, customer_id#2123, product_name#2124, product_category#2125, quantity#2126, price#2127, transaction_date#2128, store_location#2129, payment_method#2130, discount_applied#2131, transaction_year#102, transaction_month#114, clean_quantity#1154, clean_price#1168, CASE WHEN (isnull(discount_applied#2131) OR (discount_applied#2131 = cast( as double))) THEN 0 ELSE cast(discount_applied#2131 as int) END AS clean_discount#1183]\n                                 +- Project [transaction_id#2122, customer_id#2123, product_name#2124, product_category#2125, quantity#2126, price#2127, transaction_date#2128, store_location#2129, payment_method#2130, discount_applied#2131, transaction_year#102, transaction_month#114, clean_quantity#1154, CASE WHEN (isnull(price#2127) OR (price#2127 = cast( as double))) THEN 0.0 ELSE cast(price#2127 as double) END AS clean_price#1168]\n                                    +- Project [transaction_id#2122, customer_id#2123, product_name#2124, product_category#2125, quantity#2126, price#2127, transaction_date#2128, store_location#2129, payment_method#2130, discount_applied#2131, transaction_year#102, transaction_month#114, CASE WHEN (isnull(quantity#2126) OR (quantity#2126 = cast( as double))) THEN 0 ELSE cast(quantity#2126 as int) END AS clean_quantity#1154]\n                                       +- RepartitionByExpression [customer_id#2123]\n                                          +- Project [transaction_id#2122, customer_id#2123, product_name#2124, product_category#2125, quantity#2126, price#2127, transaction_date#2128, store_location#2129, payment_method#2130, discount_applied#2131, transaction_year#102, month(cast(transaction_date#2128 as date)) AS transaction_month#114]\n                                             +- Project [transaction_id#2122, customer_id#2123, product_name#2124, product_category#2125, quantity#2126, price#2127, transaction_date#2128, store_location#2129, payment_method#2130, discount_applied#2131, year(cast(transaction_date#2128 as date)) AS transaction_year#102]\n                                                +- Deduplicate [customer_id#2123]\n                                                   +- Filter atleastnnonnulls(4, customer_id#2123, transaction_id#2122, quantity#2126, price#2127)\n                                                      +- Relation [transaction_id#2122,customer_id#2123,product_name#2124,product_category#2125,quantity#2126,price#2127,transaction_date#2128,store_location#2129,payment_method#2130,discount_applied#2131] csv\n"
     ]
    }
   ],
   "source": [
    "# 3. Create new fake transactions by modifying some values\n",
    "duplicated_txns = sample_txns.withColumn(\"transaction_id\", monotonically_increasing_id()) \\\n",
    "    .withColumn(\"quantity\", sample_txns[\"quantity\"] + 1) \\\n",
    "    .withColumn(\"price\", sample_txns[\"price\"] * 1.2) \\\n",
    "    .withColumn(\"final_amount\", (sample_txns[\"quantity\"] + 1.0) * (sample_txns[\"price\"] * 1.2))"
   ]
  },
  {
   "cell_type": "code",
   "execution_count": 48,
   "id": "e0fb71de-6648-4585-9615-6b6be6372845",
   "metadata": {},
   "outputs": [
    {
     "ename": "AnalysisException",
     "evalue": "Column 'total_amount' does not exist. Did you mean one of the following? [final_amount, amount, store_location, product_name, quantity, transaction_id, customer_id, price, transaction_date, transaction_month, discount_applied, payment_method, product_category, transaction_year];\n'Project [transaction_id#58, customer_id#59, product_name#60, product_category#61, quantity#62, price#63, transaction_date#64, store_location#65, payment_method#66, discount_applied#67, transaction_year#102, transaction_month#114, amount#1199, final_amount#1702, row_number() windowspecdefinition(customer_id#59, 'total_amount DESC NULLS LAST, specifiedwindowframe(RowFrame, unboundedpreceding$(), currentrow$())) AS rank_in_customer#2240]\n+- Project [transaction_id#58, customer_id#59, product_name#60, product_category#61, quantity#62, price#63, transaction_date#64, store_location#65, payment_method#66, discount_applied#67, transaction_year#102, transaction_month#114, amount#1199, total_amount#1376 AS final_amount#1702]\n   +- Project [transaction_id#58, customer_id#59, product_name#60, product_category#61, quantity#62, price#63, transaction_date#64, store_location#65, payment_method#66, discount_applied#67, transaction_year#102, transaction_month#114, amount#1199, final_amount#1216 AS total_amount#1376]\n      +- Project [transaction_id#58, customer_id#59, product_name#60, product_category#61, quantity#62, price#63, transaction_date#64, store_location#65, payment_method#66, discount_applied#67, transaction_year#102, transaction_month#114, amount#1199, final_amount#1216]\n         +- Project [transaction_id#58, customer_id#59, product_name#60, product_category#61, quantity#62, price#63, transaction_date#64, store_location#65, payment_method#66, discount_applied#67, transaction_year#102, transaction_month#114, clean_quantity#1154, clean_price#1168, clean_discount#1183, amount#1199, (amount#1199 - cast(clean_discount#1183 as double)) AS final_amount#1216]\n            +- Project [transaction_id#58, customer_id#59, product_name#60, product_category#61, quantity#62, price#63, transaction_date#64, store_location#65, payment_method#66, discount_applied#67, transaction_year#102, transaction_month#114, clean_quantity#1154, clean_price#1168, clean_discount#1183, (cast(clean_quantity#1154 as double) * clean_price#1168) AS amount#1199]\n               +- Project [transaction_id#58, customer_id#59, product_name#60, product_category#61, quantity#62, price#63, transaction_date#64, store_location#65, payment_method#66, discount_applied#67, transaction_year#102, transaction_month#114, clean_quantity#1154, clean_price#1168, CASE WHEN (isnull(discount_applied#67) OR (discount_applied#67 = cast( as double))) THEN 0 ELSE cast(discount_applied#67 as int) END AS clean_discount#1183]\n                  +- Project [transaction_id#58, customer_id#59, product_name#60, product_category#61, quantity#62, price#63, transaction_date#64, store_location#65, payment_method#66, discount_applied#67, transaction_year#102, transaction_month#114, clean_quantity#1154, CASE WHEN (isnull(price#63) OR (price#63 = cast( as double))) THEN 0.0 ELSE cast(price#63 as double) END AS clean_price#1168]\n                     +- Project [transaction_id#58, customer_id#59, product_name#60, product_category#61, quantity#62, price#63, transaction_date#64, store_location#65, payment_method#66, discount_applied#67, transaction_year#102, transaction_month#114, CASE WHEN (isnull(quantity#62) OR (quantity#62 = cast( as double))) THEN 0 ELSE cast(quantity#62 as int) END AS clean_quantity#1154]\n                        +- RepartitionByExpression [customer_id#59]\n                           +- Project [transaction_id#58, customer_id#59, product_name#60, product_category#61, quantity#62, price#63, transaction_date#64, store_location#65, payment_method#66, discount_applied#67, transaction_year#102, month(cast(transaction_date#64 as date)) AS transaction_month#114]\n                              +- Project [transaction_id#58, customer_id#59, product_name#60, product_category#61, quantity#62, price#63, transaction_date#64, store_location#65, payment_method#66, discount_applied#67, year(cast(transaction_date#64 as date)) AS transaction_year#102]\n                                 +- Deduplicate [customer_id#59]\n                                    +- Filter atleastnnonnulls(4, customer_id#59, transaction_id#58, quantity#62, price#63)\n                                       +- Relation [transaction_id#58,customer_id#59,product_name#60,product_category#61,quantity#62,price#63,transaction_date#64,store_location#65,payment_method#66,discount_applied#67] csv\n",
     "output_type": "error",
     "traceback": [
      "\u001b[0;31m---------------------------------------------------------------------------\u001b[0m",
      "\u001b[0;31mAnalysisException\u001b[0m                         Traceback (most recent call last)",
      "\u001b[0;32m/tmp/ipykernel_76380/2471201390.py\u001b[0m in \u001b[0;36m<cell line: 10>\u001b[0;34m()\u001b[0m\n\u001b[1;32m      8\u001b[0m \u001b[0mwindow_spec_rank\u001b[0m \u001b[0;34m=\u001b[0m \u001b[0mWindow\u001b[0m\u001b[0;34m.\u001b[0m\u001b[0mpartitionBy\u001b[0m\u001b[0;34m(\u001b[0m\u001b[0;34m\"customer_id\"\u001b[0m\u001b[0;34m)\u001b[0m\u001b[0;34m.\u001b[0m\u001b[0morderBy\u001b[0m\u001b[0;34m(\u001b[0m\u001b[0mcol\u001b[0m\u001b[0;34m(\u001b[0m\u001b[0;34m\"total_amount\"\u001b[0m\u001b[0;34m)\u001b[0m\u001b[0;34m.\u001b[0m\u001b[0mdesc\u001b[0m\u001b[0;34m(\u001b[0m\u001b[0;34m)\u001b[0m\u001b[0;34m)\u001b[0m\u001b[0;34m\u001b[0m\u001b[0;34m\u001b[0m\u001b[0m\n\u001b[1;32m      9\u001b[0m \u001b[0;34m\u001b[0m\u001b[0m\n\u001b[0;32m---> 10\u001b[0;31m \u001b[0mranked_products_df\u001b[0m \u001b[0;34m=\u001b[0m \u001b[0mtransactions_df_enriched\u001b[0m\u001b[0;34m.\u001b[0m\u001b[0mwithColumn\u001b[0m\u001b[0;34m(\u001b[0m\u001b[0;34m\"rank_in_customer\"\u001b[0m\u001b[0;34m,\u001b[0m\u001b[0mrow_number\u001b[0m\u001b[0;34m(\u001b[0m\u001b[0;34m)\u001b[0m\u001b[0;34m.\u001b[0m\u001b[0mover\u001b[0m\u001b[0;34m(\u001b[0m\u001b[0mwindow_spec_rank\u001b[0m\u001b[0;34m)\u001b[0m\u001b[0;34m)\u001b[0m\u001b[0;34m\u001b[0m\u001b[0;34m\u001b[0m\u001b[0m\n\u001b[0m",
      "\u001b[0;32m/usr/lib/spark/python/pyspark/sql/dataframe.py\u001b[0m in \u001b[0;36mwithColumn\u001b[0;34m(self, colName, col)\u001b[0m\n\u001b[1;32m   3034\u001b[0m         \u001b[0;32mif\u001b[0m \u001b[0;32mnot\u001b[0m \u001b[0misinstance\u001b[0m\u001b[0;34m(\u001b[0m\u001b[0mcol\u001b[0m\u001b[0;34m,\u001b[0m \u001b[0mColumn\u001b[0m\u001b[0;34m)\u001b[0m\u001b[0;34m:\u001b[0m\u001b[0;34m\u001b[0m\u001b[0;34m\u001b[0m\u001b[0m\n\u001b[1;32m   3035\u001b[0m             \u001b[0;32mraise\u001b[0m \u001b[0mTypeError\u001b[0m\u001b[0;34m(\u001b[0m\u001b[0;34m\"col should be Column\"\u001b[0m\u001b[0;34m)\u001b[0m\u001b[0;34m\u001b[0m\u001b[0;34m\u001b[0m\u001b[0m\n\u001b[0;32m-> 3036\u001b[0;31m         \u001b[0;32mreturn\u001b[0m \u001b[0mDataFrame\u001b[0m\u001b[0;34m(\u001b[0m\u001b[0mself\u001b[0m\u001b[0;34m.\u001b[0m\u001b[0m_jdf\u001b[0m\u001b[0;34m.\u001b[0m\u001b[0mwithColumn\u001b[0m\u001b[0;34m(\u001b[0m\u001b[0mcolName\u001b[0m\u001b[0;34m,\u001b[0m \u001b[0mcol\u001b[0m\u001b[0;34m.\u001b[0m\u001b[0m_jc\u001b[0m\u001b[0;34m)\u001b[0m\u001b[0;34m,\u001b[0m \u001b[0mself\u001b[0m\u001b[0;34m.\u001b[0m\u001b[0msparkSession\u001b[0m\u001b[0;34m)\u001b[0m\u001b[0;34m\u001b[0m\u001b[0;34m\u001b[0m\u001b[0m\n\u001b[0m\u001b[1;32m   3037\u001b[0m \u001b[0;34m\u001b[0m\u001b[0m\n\u001b[1;32m   3038\u001b[0m     \u001b[0;32mdef\u001b[0m \u001b[0mwithColumnRenamed\u001b[0m\u001b[0;34m(\u001b[0m\u001b[0mself\u001b[0m\u001b[0;34m,\u001b[0m \u001b[0mexisting\u001b[0m\u001b[0;34m:\u001b[0m \u001b[0mstr\u001b[0m\u001b[0;34m,\u001b[0m \u001b[0mnew\u001b[0m\u001b[0;34m:\u001b[0m \u001b[0mstr\u001b[0m\u001b[0;34m)\u001b[0m \u001b[0;34m->\u001b[0m \u001b[0;34m\"DataFrame\"\u001b[0m\u001b[0;34m:\u001b[0m\u001b[0;34m\u001b[0m\u001b[0;34m\u001b[0m\u001b[0m\n",
      "\u001b[0;32m/opt/conda/miniconda3/lib/python3.10/site-packages/py4j/java_gateway.py\u001b[0m in \u001b[0;36m__call__\u001b[0;34m(self, *args)\u001b[0m\n\u001b[1;32m   1319\u001b[0m \u001b[0;34m\u001b[0m\u001b[0m\n\u001b[1;32m   1320\u001b[0m         \u001b[0manswer\u001b[0m \u001b[0;34m=\u001b[0m \u001b[0mself\u001b[0m\u001b[0;34m.\u001b[0m\u001b[0mgateway_client\u001b[0m\u001b[0;34m.\u001b[0m\u001b[0msend_command\u001b[0m\u001b[0;34m(\u001b[0m\u001b[0mcommand\u001b[0m\u001b[0;34m)\u001b[0m\u001b[0;34m\u001b[0m\u001b[0;34m\u001b[0m\u001b[0m\n\u001b[0;32m-> 1321\u001b[0;31m         return_value = get_return_value(\n\u001b[0m\u001b[1;32m   1322\u001b[0m             answer, self.gateway_client, self.target_id, self.name)\n\u001b[1;32m   1323\u001b[0m \u001b[0;34m\u001b[0m\u001b[0m\n",
      "\u001b[0;32m/usr/lib/spark/python/pyspark/sql/utils.py\u001b[0m in \u001b[0;36mdeco\u001b[0;34m(*a, **kw)\u001b[0m\n\u001b[1;32m    194\u001b[0m                 \u001b[0;31m# Hide where the exception came from that shows a non-Pythonic\u001b[0m\u001b[0;34m\u001b[0m\u001b[0;34m\u001b[0m\u001b[0m\n\u001b[1;32m    195\u001b[0m                 \u001b[0;31m# JVM exception message.\u001b[0m\u001b[0;34m\u001b[0m\u001b[0;34m\u001b[0m\u001b[0m\n\u001b[0;32m--> 196\u001b[0;31m                 \u001b[0;32mraise\u001b[0m \u001b[0mconverted\u001b[0m \u001b[0;32mfrom\u001b[0m \u001b[0;32mNone\u001b[0m\u001b[0;34m\u001b[0m\u001b[0;34m\u001b[0m\u001b[0m\n\u001b[0m\u001b[1;32m    197\u001b[0m             \u001b[0;32melse\u001b[0m\u001b[0;34m:\u001b[0m\u001b[0;34m\u001b[0m\u001b[0;34m\u001b[0m\u001b[0m\n\u001b[1;32m    198\u001b[0m                 \u001b[0;32mraise\u001b[0m\u001b[0;34m\u001b[0m\u001b[0;34m\u001b[0m\u001b[0m\n",
      "\u001b[0;31mAnalysisException\u001b[0m: Column 'total_amount' does not exist. Did you mean one of the following? [final_amount, amount, store_location, product_name, quantity, transaction_id, customer_id, price, transaction_date, transaction_month, discount_applied, payment_method, product_category, transaction_year];\n'Project [transaction_id#58, customer_id#59, product_name#60, product_category#61, quantity#62, price#63, transaction_date#64, store_location#65, payment_method#66, discount_applied#67, transaction_year#102, transaction_month#114, amount#1199, final_amount#1702, row_number() windowspecdefinition(customer_id#59, 'total_amount DESC NULLS LAST, specifiedwindowframe(RowFrame, unboundedpreceding$(), currentrow$())) AS rank_in_customer#2240]\n+- Project [transaction_id#58, customer_id#59, product_name#60, product_category#61, quantity#62, price#63, transaction_date#64, store_location#65, payment_method#66, discount_applied#67, transaction_year#102, transaction_month#114, amount#1199, total_amount#1376 AS final_amount#1702]\n   +- Project [transaction_id#58, customer_id#59, product_name#60, product_category#61, quantity#62, price#63, transaction_date#64, store_location#65, payment_method#66, discount_applied#67, transaction_year#102, transaction_month#114, amount#1199, final_amount#1216 AS total_amount#1376]\n      +- Project [transaction_id#58, customer_id#59, product_name#60, product_category#61, quantity#62, price#63, transaction_date#64, store_location#65, payment_method#66, discount_applied#67, transaction_year#102, transaction_month#114, amount#1199, final_amount#1216]\n         +- Project [transaction_id#58, customer_id#59, product_name#60, product_category#61, quantity#62, price#63, transaction_date#64, store_location#65, payment_method#66, discount_applied#67, transaction_year#102, transaction_month#114, clean_quantity#1154, clean_price#1168, clean_discount#1183, amount#1199, (amount#1199 - cast(clean_discount#1183 as double)) AS final_amount#1216]\n            +- Project [transaction_id#58, customer_id#59, product_name#60, product_category#61, quantity#62, price#63, transaction_date#64, store_location#65, payment_method#66, discount_applied#67, transaction_year#102, transaction_month#114, clean_quantity#1154, clean_price#1168, clean_discount#1183, (cast(clean_quantity#1154 as double) * clean_price#1168) AS amount#1199]\n               +- Project [transaction_id#58, customer_id#59, product_name#60, product_category#61, quantity#62, price#63, transaction_date#64, store_location#65, payment_method#66, discount_applied#67, transaction_year#102, transaction_month#114, clean_quantity#1154, clean_price#1168, CASE WHEN (isnull(discount_applied#67) OR (discount_applied#67 = cast( as double))) THEN 0 ELSE cast(discount_applied#67 as int) END AS clean_discount#1183]\n                  +- Project [transaction_id#58, customer_id#59, product_name#60, product_category#61, quantity#62, price#63, transaction_date#64, store_location#65, payment_method#66, discount_applied#67, transaction_year#102, transaction_month#114, clean_quantity#1154, CASE WHEN (isnull(price#63) OR (price#63 = cast( as double))) THEN 0.0 ELSE cast(price#63 as double) END AS clean_price#1168]\n                     +- Project [transaction_id#58, customer_id#59, product_name#60, product_category#61, quantity#62, price#63, transaction_date#64, store_location#65, payment_method#66, discount_applied#67, transaction_year#102, transaction_month#114, CASE WHEN (isnull(quantity#62) OR (quantity#62 = cast( as double))) THEN 0 ELSE cast(quantity#62 as int) END AS clean_quantity#1154]\n                        +- RepartitionByExpression [customer_id#59]\n                           +- Project [transaction_id#58, customer_id#59, product_name#60, product_category#61, quantity#62, price#63, transaction_date#64, store_location#65, payment_method#66, discount_applied#67, transaction_year#102, month(cast(transaction_date#64 as date)) AS transaction_month#114]\n                              +- Project [transaction_id#58, customer_id#59, product_name#60, product_category#61, quantity#62, price#63, transaction_date#64, store_location#65, payment_method#66, discount_applied#67, year(cast(transaction_date#64 as date)) AS transaction_year#102]\n                                 +- Deduplicate [customer_id#59]\n                                    +- Filter atleastnnonnulls(4, customer_id#59, transaction_id#58, quantity#62, price#63)\n                                       +- Relation [transaction_id#58,customer_id#59,product_name#60,product_category#61,quantity#62,price#63,transaction_date#64,store_location#65,payment_method#66,discount_applied#67] csv\n"
     ]
    }
   ],
   "source": [
    "#WINDOW Functions..\n",
    "\n",
    "#Rank by amount per customer\n",
    "\n",
    "from pyspark.sql.window import Window\n",
    "from pyspark.sql.functions import col, row_number, rank, dense_rank, sum as _sum, lag, lead\n",
    "\n",
    "window_spec_rank = Window.partitionBy(\"customer_id\").orderBy(col(\"total_amount\").desc())\n",
    "\n",
    "ranked_products_df = transactions_df_enriched.withColumn(\"rank_in_customer\",row_number().over(window_spec_rank))\n"
   ]
  },
  {
   "cell_type": "code",
   "execution_count": 102,
   "id": "80ccb4d6-7277-40ec-81fa-27842ebac36f",
   "metadata": {},
   "outputs": [
    {
     "name": "stdout",
     "output_type": "stream",
     "text": [
      "+--------------------+-----------------+-----------------+\n",
      "|         customer_id|           amount|     total_amount|\n",
      "+--------------------+-----------------+-----------------+\n",
      "|1280bddb-d9ed-4dc...|           206.91|           206.91|\n",
      "|256c3dc8-04a9-41b...|           859.13|           839.13|\n",
      "|2fa8b3e5-af90-4be...|           254.09|           254.09|\n",
      "|2fe076bb-d401-427...|           268.68|           268.68|\n",
      "|377dacf5-92d0-496...|           1484.7|           1484.7|\n",
      "|43d172e3-4ee1-475...|           705.05|           705.05|\n",
      "|455c05cc-3c5c-4f0...|          1759.76|          1754.76|\n",
      "|54e325e2-8499-44e...|6362.789999999999|6362.789999999999|\n",
      "|64afc1c8-2eaa-446...|           655.57|           625.57|\n",
      "|81b29f5b-a070-45a...|            50.24|            50.24|\n",
      "|861c66ad-3aec-4da...|          2448.24|          2448.24|\n",
      "|8a185511-3dc2-469...|           1489.2|           1484.2|\n",
      "|99ba027b-24e2-406...|            354.4|            339.4|\n",
      "|bdb529e6-281d-4ab...|            67.78|            42.78|\n",
      "|dcdb6180-6f27-4dd...|           507.42|           507.42|\n",
      "|e2275f6f-253e-44e...|          1097.29|          1067.29|\n",
      "|e5249c67-3787-4ee...|           221.37|           191.37|\n",
      "|e8aa2256-69c1-433...|           516.39|           516.39|\n",
      "|eacf4624-88d9-4aa...|           151.42|           151.42|\n",
      "|ebbb77a6-097b-47b...|           913.04|           888.04|\n",
      "+--------------------+-----------------+-----------------+\n",
      "only showing top 20 rows\n",
      "\n"
     ]
    }
   ],
   "source": [
    "transactions_df_enriched.select(\"customer_id\",\"amount\",\"total_amount\").show()"
   ]
  },
  {
   "cell_type": "code",
   "execution_count": 103,
   "id": "bf55c35a-a669-447c-95cf-f5b78f0564d8",
   "metadata": {},
   "outputs": [
    {
     "name": "stdout",
     "output_type": "stream",
     "text": [
      "+--------------------+-----------------+----------------+\n",
      "|         customer_id|     total_amount|rank_in_customer|\n",
      "+--------------------+-----------------+----------------+\n",
      "|1280bddb-d9ed-4dc...|           206.91|               1|\n",
      "|256c3dc8-04a9-41b...|           839.13|               1|\n",
      "|2fa8b3e5-af90-4be...|           254.09|               1|\n",
      "|2fe076bb-d401-427...|           268.68|               1|\n",
      "|377dacf5-92d0-496...|           1484.7|               1|\n",
      "|43d172e3-4ee1-475...|           705.05|               1|\n",
      "|455c05cc-3c5c-4f0...|          1754.76|               1|\n",
      "|54e325e2-8499-44e...|6362.789999999999|               1|\n",
      "|64afc1c8-2eaa-446...|           625.57|               1|\n",
      "|81b29f5b-a070-45a...|            50.24|               1|\n",
      "|861c66ad-3aec-4da...|          2448.24|               1|\n",
      "|8a185511-3dc2-469...|           1484.2|               1|\n",
      "|99ba027b-24e2-406...|            339.4|               1|\n",
      "|bdb529e6-281d-4ab...|            42.78|               1|\n",
      "|dcdb6180-6f27-4dd...|           507.42|               1|\n",
      "|e2275f6f-253e-44e...|          1067.29|               1|\n",
      "|e5249c67-3787-4ee...|           191.37|               1|\n",
      "|e8aa2256-69c1-433...|           516.39|               1|\n",
      "|eacf4624-88d9-4aa...|           151.42|               1|\n",
      "|ebbb77a6-097b-47b...|           888.04|               1|\n",
      "+--------------------+-----------------+----------------+\n",
      "only showing top 20 rows\n",
      "\n"
     ]
    }
   ],
   "source": [
    "ranked_products_df.select(\"customer_id\",\"total_amount\",\"rank_in_customer\").show()"
   ]
  },
  {
   "cell_type": "code",
   "execution_count": 50,
   "id": "1bea605d-c476-4f77-b0dd-990a9110775a",
   "metadata": {},
   "outputs": [],
   "source": [
    "#Running total of final_amount per customer\n",
    "\n",
    "window_spec_running = Window.partitionBy(\"customer_id\").orderBy(\"transaction_date\")\n",
    "\n",
    "running_total_df = transactions_df_enriched.withColumn(\"running_total\",_sum(\"final_amount\").over(window_spec_running))\n"
   ]
  },
  {
   "cell_type": "code",
   "execution_count": 51,
   "id": "ce4dcd4f-214c-4539-8fde-1365451988e3",
   "metadata": {},
   "outputs": [],
   "source": [
    "#Compare each transaction with previous\n",
    "\n",
    "window_spec_lag = Window.partitionBy(\"customer_id\").orderBy(\"transaction_date\")\n",
    "\n",
    "lag_lead_df = transactions_df_enriched.withColumn(\"prev_amount\",lag(\"final_amount\", 1).over(window_spec_lag))\\\n",
    "            .withColumn(\"next_amount\",lead(\"final_amount\", 1).over(window_spec_lag))\n"
   ]
  },
  {
   "cell_type": "code",
   "execution_count": 52,
   "id": "4c198577-9291-41ad-8281-46b609a1dae5",
   "metadata": {},
   "outputs": [],
   "source": [
    "#Dense Rank: Cities by total spend\n",
    "\n",
    "city_total_df = customers_df_enriched.join(transactions_df_enriched, \"customer_id\")\n",
    "\n",
    "city_spend_df = city_total_df.groupBy(\"city\").agg(\n",
    "    _sum(\"final_amount\").alias(\"total_spent\")\n",
    ")\n",
    "\n",
    "window_spec_city = Window.orderBy(col(\"total_spent\").desc())\n",
    "\n",
    "city_ranked_df = city_spend_df.withColumn(\n",
    "    \"dense_rank\", dense_rank().over(window_spec_city)\n",
    ")\n"
   ]
  },
  {
   "cell_type": "code",
   "execution_count": 59,
   "id": "9504354d-5d78-485d-9e3d-418c9d8f68cb",
   "metadata": {},
   "outputs": [
    {
     "name": "stdout",
     "output_type": "stream",
     "text": [
      "Before repartition: 200\n"
     ]
    }
   ],
   "source": [
    "print(\"Before repartition:\", transactions_df_enriched.rdd.getNumPartitions())"
   ]
  },
  {
   "cell_type": "code",
   "execution_count": 58,
   "id": "fc3318e9-0bc6-4d9f-a291-3c5cebb502ef",
   "metadata": {},
   "outputs": [],
   "source": [
    "transactions_df_repartitioned = transactions_df_enriched.repartition(10, \"customer_id\")"
   ]
  },
  {
   "cell_type": "code",
   "execution_count": 61,
   "id": "9238ae95-b4e9-44ac-b85d-7800f7527869",
   "metadata": {},
   "outputs": [
    {
     "name": "stdout",
     "output_type": "stream",
     "text": [
      "After repartition: 10\n"
     ]
    }
   ],
   "source": [
    "print(\"After repartition:\", transactions_df_repartitioned.rdd.getNumPartitions())"
   ]
  },
  {
   "cell_type": "code",
   "execution_count": 62,
   "id": "9f8aa9cc-7ed3-490d-bbe0-07eb84060e6d",
   "metadata": {},
   "outputs": [
    {
     "data": {
      "text/plain": [
       "'Performance Tuning...!!!!!\\nStep 8: Repartition, Coalesce, and Caching\\nThese are critical concepts when optimizing performance in PySpark — especially for large datasets.\\n8.1 Repartitioning\\nWhen to use?\\nIncrease parallelism when working with larger datasets\\nEnsures better load balancing across Spark executors\\n\\n# Check current number of partitions\\nprint(\"Before repartition:\", transactions_df_with_dupes.rdd.getNumPartitions())  --> 200\\n\\n# Repartition to 10 partitions based on customer_id\\ntransactions_df_repartitioned = transactions_df_with_dupes.repartition(10, \"customer_id\")\\n\\nprint(\"After repartition:\", transactions_df_repartitioned.rdd.getNumPartitions())\\n✅ 8.2 Coalesce\\nWhen to use?\\nReduce number of partitions\\n\\nEspecially useful before writing to disk or performing actions like collect()\\n# Coalesce into fewer partitions (e.g., 2) before saving\\ntransactions_df_coalesced = transactions_df_repartitioned.coalesce(2)\\n✅ 8.3 Caching / Persisting\\nWhen to use?\\nIf you\\'re using a DataFrame multiple times in your pipeline\\n\\n# Cache to memory\\ntransactions_df_repartitioned.cache()\\ntransactions_df_repartitioned.count()  # Trigger cache\\nor\\n\\nfrom pyspark.storagelevel import StorageLevel\\n\\n# Persist to memory and disk\\ntransactions_df_repartitioned.persist(StorageLevel.MEMORY_AND_DISK)\\n\\n'"
      ]
     },
     "execution_count": 62,
     "metadata": {},
     "output_type": "execute_result"
    }
   ],
   "source": [
    "\"\"\"Performance Tuning...!!!!!\n",
    "Step 8: Repartition, Coalesce, and Caching\n",
    "These are critical concepts when optimizing performance in PySpark — especially for large datasets.\n",
    "8.1 Repartitioning\n",
    "When to use?\n",
    "Increase parallelism when working with larger datasets\n",
    "Ensures better load balancing across Spark executors\n",
    "\n",
    "# Check current number of partitions\n",
    "print(\"Before repartition:\", transactions_df_with_dupes.rdd.getNumPartitions())  --> 200\n",
    "\n",
    "# Repartition to 10 partitions based on customer_id\n",
    "transactions_df_repartitioned = transactions_df_with_dupes.repartition(10, \"customer_id\")\n",
    "\n",
    "print(\"After repartition:\", transactions_df_repartitioned.rdd.getNumPartitions())\n",
    "✅ 8.2 Coalesce\n",
    "When to use?\n",
    "Reduce number of partitions\n",
    "\n",
    "Especially useful before writing to disk or performing actions like collect()\n",
    "# Coalesce into fewer partitions (e.g., 2) before saving\n",
    "transactions_df_coalesced = transactions_df_repartitioned.coalesce(2)\n",
    "✅ 8.3 Caching / Persisting\n",
    "When to use?\n",
    "If you're using a DataFrame multiple times in your pipeline\n",
    "\n",
    "# Cache to memory\n",
    "transactions_df_repartitioned.cache()\n",
    "transactions_df_repartitioned.count()  # Trigger cache\n",
    "or\n",
    "\n",
    "from pyspark.storagelevel import StorageLevel\n",
    "\n",
    "# Persist to memory and disk\n",
    "transactions_df_repartitioned.persist(StorageLevel.MEMORY_AND_DISK)\n",
    "\n",
    "\"\"\""
   ]
  },
  {
   "cell_type": "code",
   "execution_count": 63,
   "id": "de2254ad-4015-4202-a065-811b3146f233",
   "metadata": {},
   "outputs": [],
   "source": [
    "transactions_df_coalesced = transactions_df_repartitioned.coalesce(2)"
   ]
  },
  {
   "cell_type": "code",
   "execution_count": 64,
   "id": "a9bf7c20-d50d-49e5-8eaf-8e81067261f7",
   "metadata": {},
   "outputs": [
    {
     "name": "stderr",
     "output_type": "stream",
     "text": [
      "[Stage 31:=========================================>            (152 + 2) / 200]\r"
     ]
    },
    {
     "name": "stdout",
     "output_type": "stream",
     "text": [
      "After Coalesce: 2\n"
     ]
    },
    {
     "name": "stderr",
     "output_type": "stream",
     "text": [
      "[Stage 31:====================================================> (194 + 2) / 200]\r"
     ]
    }
   ],
   "source": [
    "print(\"After Coalesce:\", transactions_df_coalesced.rdd.getNumPartitions())"
   ]
  },
  {
   "cell_type": "code",
   "execution_count": 65,
   "id": "7dd07a99-1bcb-46fb-ba35-d769de67c54d",
   "metadata": {},
   "outputs": [
    {
     "name": "stderr",
     "output_type": "stream",
     "text": [
      "                                                                                \r"
     ]
    }
   ],
   "source": [
    "#Save output as csv\n",
    "\n",
    "transactions_df_repartitioned \\\n",
    "    .write \\\n",
    "    .mode(\"overwrite\") \\\n",
    "    .option(\"header\", True) \\\n",
    "    .csv(\"gs://retail_pysparkdata//output/transactions\")\n"
   ]
  },
  {
   "cell_type": "code",
   "execution_count": 66,
   "id": "2fe4a945-aebd-4964-8cda-ad48a2de5f45",
   "metadata": {},
   "outputs": [
    {
     "name": "stderr",
     "output_type": "stream",
     "text": [
      "                                                                                \r"
     ]
    }
   ],
   "source": [
    "#Save output as parque\n",
    "\n",
    "transactions_df_repartitioned \\\n",
    "    .write \\\n",
    "    .mode(\"overwrite\") \\\n",
    "    .parquet(\"gs://retail_pysparkdata//output/transactionss_parquet\")\n"
   ]
  },
  {
   "cell_type": "code",
   "execution_count": null,
   "id": "06a26360-e315-4113-ba05-bf6b0a4c7d86",
   "metadata": {},
   "outputs": [],
   "source": []
  }
 ],
 "metadata": {
  "kernelspec": {
   "display_name": "Python 3",
   "language": "python",
   "name": "python3"
  },
  "language_info": {
   "codemirror_mode": {
    "name": "ipython",
    "version": 3
   },
   "file_extension": ".py",
   "mimetype": "text/x-python",
   "name": "python",
   "nbconvert_exporter": "python",
   "pygments_lexer": "ipython3",
   "version": "3.10.8"
  }
 },
 "nbformat": 4,
 "nbformat_minor": 5
}
